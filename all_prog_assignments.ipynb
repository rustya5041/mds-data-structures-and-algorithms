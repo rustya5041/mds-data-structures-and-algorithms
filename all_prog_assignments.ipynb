{
 "cells": [
  {
   "cell_type": "code",
   "execution_count": null,
   "metadata": {},
   "outputs": [],
   "source": [
    "# lines\n",
    "\n",
    "s = [int(i) for i in input().split()]\n",
    "\n",
    "def chunkenizer(line: list) -> list[list]:\n",
    "    line.append('')\n",
    "    chunk = []\n",
    "    chunked_line = []\n",
    "    for i in range(len(line) - 1):\n",
    "        if line[i] == line[i + 1]:\n",
    "            chunk.append(line[i + 1])\n",
    "        else:\n",
    "            chunk.append(line[i])\n",
    "            chunked_line.append(chunk)\n",
    "            chunk = []\n",
    "    return chunked_line\n",
    "\n",
    "\n",
    "def lines(line: list) -> int:\n",
    "    chunked_line = chunkenizer(line)\n",
    "    counter = 0\n",
    "    while any(len(chunk) >= 3 for chunk in chunked_line):\n",
    "        counter += sum(len(chunk) for chunk in chunked_line if len(chunk) >= 3)\n",
    "        line = [el for chunk in chunked_line for el in chunk if len(chunk) < 3]\n",
    "        chunked_line  = chunkenizer(line)\n",
    "    return counter\n",
    "\n",
    "print(lines(s))"
   ]
  },
  {
   "cell_type": "code",
   "execution_count": 51,
   "metadata": {},
   "outputs": [
    {
     "name": "stdout",
     "output_type": "stream",
     "text": [
      "BCB\n"
     ]
    }
   ],
   "source": [
    "# Given a string s Write a function largest_palindrome(s) that finds palindrome substring in  𝑠  with the maximum possible length. String s containing upper-case english letters, 𝑙𝑒𝑛(𝑠)≤100 1000\n",
    "\n",
    "\n",
    "def largest_palindrome(s):\n",
    "    for i in range(len(s), 0, -1):\n",
    "        for j in range(len(s)-i+1):\n",
    "            if s[j:j+i] == s[j:j+i][::-1]:\n",
    "                return s[j:j+i]\n",
    "\n",
    "print(largest_palindrome('ABBCB'))"
   ]
  },
  {
   "cell_type": "code",
   "execution_count": 1,
   "metadata": {},
   "outputs": [],
   "source": [
    "class Stack:\n",
    "    def __init__(self) -> None:\n",
    "        self.stack = []\n",
    "\n",
    "    def push(self, item):\n",
    "        return self.stack.append(item)\n",
    "    \n",
    "    def pop(self):\n",
    "        return self.stack.pop()\n",
    "\n",
    "    def empty(self):\n",
    "        return len(self.stack) == 0\n",
    "    \n",
    "    def clear(self):\n",
    "        return self.stack.clear()\n",
    "    \n",
    "    def top(self):\n",
    "        return self.stack[-1]\n",
    "\n",
    "    def size(self):\n",
    "        return len(self.stack)\n",
    "    \n",
    "class Deque:\n",
    "    def __init__(self) -> None:\n",
    "        self.enq = Stack()\n",
    "        self.deq = Stack()\n",
    "    \n",
    "    def push_back(self, item):\n",
    "        self.enq.push(item)\n",
    "        return 'ok'\n",
    "    \n",
    "    def push_front(self, item):\n",
    "        self.deq.push(item)\n",
    "        return 'ok'\n",
    "\n",
    "    def pop_front(self):\n",
    "        if self.deq.empty():\n",
    "            while not self.enq.empty():\n",
    "                self.deq.push(self.enq.pop())\n",
    "        if self.deq.empty():\n",
    "            return 'error'\n",
    "        return self.deq.pop()\n",
    "\n",
    "    def pop_back(self):\n",
    "        if self.enq.empty():\n",
    "            while not self.deq.empty():\n",
    "                self.enq.push(self.deq.pop())\n",
    "        if self.enq.empty():\n",
    "            return 'error'\n",
    "        return self.enq.pop()\n",
    "\n",
    "    def front(self):\n",
    "        if self.deq.empty():\n",
    "            while not self.enq.empty():\n",
    "                self.deq.push(self.enq.pop())\n",
    "        if self.deq.empty():\n",
    "            return 'error'\n",
    "        return self.deq.top()\n",
    "    \n",
    "    def back(self):\n",
    "        if self.enq.empty():\n",
    "            while not self.deq.empty():\n",
    "                self.enq.push(self.deq.pop())\n",
    "        if self.enq.empty():\n",
    "            return 'error'\n",
    "        return self.enq.top()\n",
    "\n",
    "    def clear(self):\n",
    "        self.enq.clear()\n",
    "        self.deq.clear()\n",
    "        return 'ok'\n",
    "    \n",
    "    def size(self):\n",
    "        return self.enq.size() + self.deq.size()\n",
    "    \n",
    "    def empty(self):\n",
    "        return self.enq.empty() and self.deq.empty()\n",
    "\n",
    "    def exit(self):\n",
    "        print('bye')\n",
    "\n",
    "    def process_deque(self):\n",
    "        while True:\n",
    "            command = input()\n",
    "            if command == 'exit':\n",
    "                self.exit()\n",
    "            elif command == 'clear':\n",
    "                print(self.clear())\n",
    "            elif command == 'size':\n",
    "                print(self.size())\n",
    "            elif command == 'empty':\n",
    "                print('true' if self.empty() else 'false')\n",
    "            elif command == 'front':\n",
    "                print(self.front())\n",
    "            elif command == 'back':\n",
    "                print(self.back())\n",
    "            elif command == 'pop_front':\n",
    "                print(self.pop_front())\n",
    "            elif command == 'pop_back':\n",
    "                print(self.pop_back())\n",
    "            elif command.startswith('push_front'):\n",
    "                print(self.push_front(command.split()[1]))\n",
    "            elif command.startswith('push_back'):\n",
    "                print(self.push_back(command.split()[1]))\n",
    "    "
   ]
  },
  {
   "cell_type": "code",
   "execution_count": 36,
   "metadata": {},
   "outputs": [
    {
     "name": "stdout",
     "output_type": "stream",
     "text": [
      "1\n",
      "3\n",
      "2\n",
      "2\n"
     ]
    }
   ],
   "source": [
    "# Given an array a, a sliding window of size k is moving from the very left of the array to the very right. Each time the sliding window moves right by one position. For each sliding window position return minimum value of all numbers inside the sliding window.\n",
    " \n",
    "# Implement a function sliding_window_min(a, k) which returns a list of minimums for each sliding window position. First line consists of two numbers: n - array size (n < 150000) and k (k<10000). Second line consists of n numbers - array a\n",
    "\n",
    "# To satisfy time limit for this task your solution has to work for O(n)\n",
    "\n",
    "def sliding_window_min(a, k):\n",
    "    deque = Deque()\n",
    "    result = []\n",
    "    \n",
    "    for i in range(k):\n",
    "        while not deque.empty() and a[deque.back()] >= a[i]:\n",
    "            deque.pop_back()\n",
    "        deque.push_back(i)\n",
    "    \n",
    "    for i in range(k, len(a)):\n",
    "        result.append(a[deque.front()])\n",
    "        while not deque.empty() and deque.front() <= i - k:\n",
    "            deque.pop_front()\n",
    "        while not deque.empty() and a[deque.back()] >= a[i]:\n",
    "            deque.pop_back()\n",
    "        deque.push_back(i)\n",
    "    \n",
    "    result.append(a[deque.front()])\n",
    "    \n",
    "    return result\n",
    "\n",
    "\n",
    "n, k = (int(i) for i in input().split())\n",
    "a = [int(i) for i in input().split()]\n",
    "print(*sliding_window_min(a, k), sep='\\n')\n",
    "    "
   ]
  },
  {
   "cell_type": "code",
   "execution_count": null,
   "metadata": {},
   "outputs": [],
   "source": []
  },
  {
   "cell_type": "code",
   "execution_count": 58,
   "metadata": {},
   "outputs": [
    {
     "ename": "IndexError",
     "evalue": "list index out of range",
     "output_type": "error",
     "traceback": [
      "\u001b[0;31m---------------------------------------------------------------------------\u001b[0m",
      "\u001b[0;31mIndexError\u001b[0m                                Traceback (most recent call last)",
      "Cell \u001b[0;32mIn[58], line 22\u001b[0m\n\u001b[1;32m     20\u001b[0m n, k \u001b[39m=\u001b[39m (\u001b[39mint\u001b[39m(i) \u001b[39mfor\u001b[39;00m i \u001b[39min\u001b[39;00m \u001b[39minput\u001b[39m()\u001b[39m.\u001b[39msplit())\n\u001b[1;32m     21\u001b[0m a \u001b[39m=\u001b[39m [\u001b[39mint\u001b[39m(i) \u001b[39mfor\u001b[39;00m i \u001b[39min\u001b[39;00m \u001b[39minput\u001b[39m()\u001b[39m.\u001b[39msplit()]\n\u001b[0;32m---> 22\u001b[0m \u001b[39mprint\u001b[39m(\u001b[39m*\u001b[39msliding_window_min(a, k), sep\u001b[39m=\u001b[39m\u001b[39m'\u001b[39m\u001b[39m\\n\u001b[39;00m\u001b[39m'\u001b[39m)\n",
      "Cell \u001b[0;32mIn[58], line 6\u001b[0m, in \u001b[0;36msliding_window_min\u001b[0;34m(a, k)\u001b[0m\n\u001b[1;32m      4\u001b[0m collector \u001b[39m=\u001b[39m \u001b[39mlist\u001b[39m()\n\u001b[1;32m      5\u001b[0m \u001b[39mfor\u001b[39;00m i \u001b[39min\u001b[39;00m \u001b[39mrange\u001b[39m(k):\n\u001b[0;32m----> 6\u001b[0m     \u001b[39mwhile\u001b[39;00m queue \u001b[39mand\u001b[39;00m a[queue[\u001b[39m-\u001b[39;49m\u001b[39m1\u001b[39;49m]] \u001b[39m>\u001b[39m\u001b[39m=\u001b[39m a[i]:\n\u001b[1;32m      7\u001b[0m         queue\u001b[39m.\u001b[39mpop()\n\u001b[1;32m      8\u001b[0m     queue\u001b[39m.\u001b[39mappend(i)\n",
      "\u001b[0;31mIndexError\u001b[0m: list index out of range"
     ]
    }
   ],
   "source": [
    "from collections import deque\n",
    "\n",
    "def sliding_window_min(a, k):\n",
    "    queue = deque()\n",
    "    collector = list()\n",
    " \n",
    "    for i in range(k):\n",
    "        while queue and a[queue[-1]] >= a[i]:\n",
    "            queue.pop()\n",
    "        queue.append(i)\n",
    " \n",
    "    for i in range(k, len(a)):\n",
    "        collector.append(a[queue[0]])\n",
    "        while queue and queue[0] <= i - k:\n",
    "            queue.popleft()\n",
    "        while queue and a[queue[-1]] >= a[i]:\n",
    "            queue.pop()\n",
    "        queue.append(i)\n",
    " \n",
    "    collector.append(a[queue[0]])\n",
    " \n",
    "    return collector\n",
    "\n",
    "\n",
    "n, k = (int(i) for i in input().split())\n",
    "a = [int(i) for i in input().split()]\n",
    "print(*sliding_window_min(a, k), sep='\\n')"
   ]
  },
  {
   "cell_type": "code",
   "execution_count": null,
   "metadata": {},
   "outputs": [],
   "source": [
    "def calc_rain_water(h):\n",
    "    left = [0] * len(h)\n",
    "    right = [0] * len(h)\n",
    "    left[0] = h[0]\n",
    "    right[-1] = h[-1]\n",
    "    \n",
    "    for i in range(1, len(h)):\n",
    "        left[i] = max(left[i-1], h[i])\n",
    "        right[-i-1] = max(right[-i], h[-i-1])\n",
    "    \n",
    "    return sum(min(left[i], right[i]) - h[i] for i in range(len(h)))\n",
    "\n",
    "# Test data\n",
    "n = int(input())\n",
    "h = [int(i) for i in input().split()]\n",
    "\n",
    "print(calc_rain_water(h))"
   ]
  },
  {
   "cell_type": "code",
   "execution_count": 24,
   "metadata": {},
   "outputs": [
    {
     "data": {
      "text/plain": [
       "[[(0, 0), (0, 1), (0, 2), (1, 2), (2, 2)],\n",
       " [(0, 0), (0, 1), (1, 1), (1, 2), (2, 2)]]"
      ]
     },
     "execution_count": 24,
     "metadata": {},
     "output_type": "execute_result"
    }
   ],
   "source": [
    "# I​n one of the lectures this week, we have designed a recursive algorithm using so-called backtracking to find whether a packman will escape from a maze. More formally,\n",
    " \n",
    "# I​nput: a maze defined by a 2-d array maze where maze[i][j] is equal to 0 if the j-th cell on the i-th row is empty and 1 if there is a wall there. It is guaranteed that the upper left and lower right cells are empty.\n",
    " \n",
    "# O​utput: True if there exists a path from the upper left cell to the lower right cell passing through empty cells only. False otherwise. A path can go from a cell to a cell that shares a side with it.\n",
    " \n",
    "# B​elow is a python implementation of the algorithm we have designed.\n",
    " \n",
    "def can_escape(maze, i=0, j=0):\n",
    "    # (i, j) is the starting position\n",
    "    # maze[x][y] = 0 <=> (x, y) cell is empty\n",
    "    # maze[x][y] = 1 <=> (x, y) cell contains a wall\n",
    "    n = len(maze)\n",
    "    m = len(maze[0])\n",
    "    if i == n - 1 and j == m - 1:\n",
    "        return True\n",
    "    maze[i][j] = 1\n",
    "    result = False\n",
    "    for a, b in [(i - 1, j), (i, j - 1), (i + 1, j), (i, j + 1)]:\n",
    "        if 0 <= a < n and 0 <= b < m and maze[a][b] == 0:\n",
    "            result = result or can_escape(maze, a, b)\n",
    "    maze[i][j] = 0\n",
    "    return result\n",
    " \n",
    "# I​n this assignment, you will be asked to develop this code in different directions.\n",
    " \n",
    "# P​art 1. Write a function fastest_escape_length(maze) that takes a maze (as above) as input and returns the length of the shortest path from the upper left corner to the lower right corner. The length of a path is the number of cells it passes through. If there is no path, the function should return math.inf.\n",
    " \n",
    "# F​or example, if\n",
    " \n",
    "maze = [\n",
    "      [0, 0, 0],\n",
    "      [1, 0, 0],\n",
    "      [1, 1, 0]\n",
    "    ]\n",
    " \n",
    "# t​he output should be 5.\n",
    "\n",
    "# Part 1\n",
    "import math\n",
    "\n",
    "def fastest_escape_length(maze):\n",
    "    n = len(maze)\n",
    "    m = len(maze[0])\n",
    "    \n",
    "    def can_escape(maze, i=0, j=0):\n",
    "        if i == n - 1 and j == m - 1:\n",
    "            return 1\n",
    "        maze[i][j] = 1\n",
    "        result = math.inf\n",
    "\n",
    "        for x, y in [(i-1, j),\\\n",
    "                     (i, j-1),\\\n",
    "                     (i+1, j),\\\n",
    "                     (i, j+1)]:\n",
    "            if 0 <= x < n and 0 <= y < m and maze[x][y] == 0:\n",
    "                result = min(result, can_escape(maze, x, y))\n",
    "        maze[i][j] = 0\n",
    "        return result + 1\n",
    "    return can_escape(maze)\n",
    "\n",
    "fastest_escape_length(maze)\n",
    "\n",
    "# P​art 2. Write a function fastest_escapes(maze) that takes a maze and returns a list of all shortest paths from the upper left corner to the lower right corner. Each path should be represented as a list of cells along the path where a cell is a tuple of the coordinates. In the example from part 1 , the output should be returned in lexicographical order: [ [(0, 0), (0, 1), (0, 2), (1, 2), (2, 2)], [(0, 0), (0, 1), (1, 1), (1, 2), (2, 2)] ]\n",
    " \n",
    "# H​int:  A good starting point would be the previous part. You now should modify it not to just return the length of the shortest path but a list of all the shortest paths instead. At each recursice call, we take all the fastest escapes for the neightbors, take only the ones of the shortest length, and extend them by one.\n",
    "# Hint: For obtaining lexicographical order, you can simply use built-in list.sort() or sorted() functions.\n",
    "\n",
    "def fastest_escapes(maze):\n",
    "    n = len(maze)\n",
    "    m = len(maze[0])\n",
    "    \n",
    "    def can_escape(maze, i=0, j=0):\n",
    "        if i == n - 1 and j == m - 1:\n",
    "            return [[(i, j)]]\n",
    "        maze[i][j] = 1\n",
    "        result = []\n",
    "\n",
    "        for x, y in [(i-1, j),\\\n",
    "                     (i, j-1),\\\n",
    "                     (i+1, j),\\\n",
    "                     (i, j+1)]:\n",
    "            if 0 <= x < n and 0 <= y < m and maze[x][y] == 0:\n",
    "                result += can_escape(maze, x, y)\n",
    "        maze[i][j] = 0\n",
    "        return [[(i, j)] + x for x in result]\n",
    "    \n",
    "    result = can_escape(maze)\n",
    "    min_length = min([len(x) for x in result])\n",
    "    return sorted([x for x in result if len(x) == min_length])\n",
    "\n",
    "fastest_escapes(maze)\n",
    "\n",
    "# P​art 3. Write a function weighted_escape_length(maze, w) that takes a maze and a nonegative integer w and returns the length of the shortest path from the upper left corner to the lower right corner if it is allowed to pass through the walls, but each wall is considered equivalent to w empty cells. F​or example, for the example from part 1 and w = 0 (that is, passing through walls is for free), the result should be 2.\n",
    "# Hint. A solution can be obtained as a modification of your solution of the part 1 but now taking into account the option of passing through the wall and the corresponding penalty.\n",
    "\n",
    "#  F​or example, for the example from part 1 and w = 0 (that is, passing through walls is for free), the result should be 2."
   ]
  },
  {
   "cell_type": "code",
   "execution_count": 55,
   "metadata": {},
   "outputs": [
    {
     "data": {
      "text/plain": [
       "440"
      ]
     },
     "execution_count": 55,
     "metadata": {},
     "output_type": "execute_result"
    }
   ],
   "source": [
    "# Text justification using recursive solution\n",
    "from math import inf\n",
    "\n",
    "W_ex = [\"jars\", \"jaws\", \"joke\", \"jury\", \"juxtaposition\"]\n",
    "L_ex = 15\n",
    "\n",
    "def tj_rec(L, W):\n",
    "    def P(i,j): # penalty\n",
    "        length = sum([len(W[k]) for k in range(i,j)])\n",
    "        length += j - i - 1 # adding spaces\n",
    "        if length > L:\n",
    "            return math.inf\n",
    "        return (L - length)**3\n",
    "\n",
    "    def tjp(i):\n",
    "        if i == 0:\n",
    "            return 0\n",
    "        opt = [tjp(j) + P(j,i) for j in range(i)]\n",
    "        return min(opt)\n",
    "    return tjp(len(W))\n",
    "\n",
    "tj_rec(L_ex, W_ex)\n"
   ]
  },
  {
   "cell_type": "code",
   "execution_count": 85,
   "metadata": {},
   "outputs": [
    {
     "data": {
      "text/plain": [
       "440"
      ]
     },
     "execution_count": 85,
     "metadata": {},
     "output_type": "execute_result"
    }
   ],
   "source": [
    "W_ex = [\"jars\", \"jaws\", \"joke\", \"jury\", \"juxtaposition\"]\n",
    "L_ex = 15\n",
    "\n",
    "# dynamic programming solution for text justification\n",
    "def tj_dyn(L, W):\n",
    "    n = len(W)\n",
    "    tbl = [math.inf] * (n+1)\n",
    "    tbl[0] = 0\n",
    "    \n",
    "    for i in range(1, n+1):\n",
    "        length = -1\n",
    "        for j in range(i-1, -1, -1):\n",
    "            length += 1 + len(W[j])\n",
    "            if length > L:\n",
    "                P = math.inf\n",
    "            else:\n",
    "                P = (L - length)**3\n",
    "            tbl[i] = min([tbl[i], tbl[j] + P])\n",
    "    return tbl[n]\n",
    "\n",
    "tj_dyn(L_ex, W_ex)"
   ]
  },
  {
   "cell_type": "code",
   "execution_count": 88,
   "metadata": {},
   "outputs": [
    {
     "data": {
      "text/plain": [
       "[0, 0, 0, 0, 2, 4]"
      ]
     },
     "execution_count": 88,
     "metadata": {},
     "output_type": "execute_result"
    }
   ],
   "source": [
    "W_ex = [\"jars\", \"jaws\", \"joke\", \"jury\", \"juxtaposition\"]\n",
    "L_ex = 15\n",
    "\n",
    "# dynamic programming solution for text justification\n",
    "def tj_dyn(L, W):\n",
    "    n = len(W)\n",
    "    tbl = [math.inf] * (n+1)\n",
    "    tbl[0] = 0\n",
    "    split = [0] * (n+1)\n",
    "    \n",
    "    for i in range(1, n+1):\n",
    "        length = -1\n",
    "        for j in range(i-1, -1, -1):\n",
    "            length += 1 + len(W[j])\n",
    "            if length > L:\n",
    "                P = math.inf\n",
    "            else:\n",
    "                P = (L - length)**3\n",
    "            if tbl[j] + P < tbl[i]:\n",
    "                tbl[i] = tbl[j] + P\n",
    "                split[i] = j\n",
    "    return split\n",
    "\n",
    "tj_dyn(L_ex, W_ex)"
   ]
  },
  {
   "cell_type": "code",
   "execution_count": 125,
   "metadata": {},
   "outputs": [
    {
     "data": {
      "text/plain": [
       "432"
      ]
     },
     "execution_count": 125,
     "metadata": {},
     "output_type": "execute_result"
    }
   ],
   "source": [
    "# In this problem you will be required to improve our text justification algorithm from the lecture.\n",
    "\n",
    "# In real life typesetting, it is okay to have empty space at the end of the last line of a paragraph.  The goal of this assignment would be to adapt the code from the lecture to find the minimal penalty and produce the formatted text given that there is no penalty for the last line\n",
    " \n",
    "\n",
    "# Part 1. You have to construct a function tj_cost(L, W), where L is the line width and W is a list of words. \n",
    "# It is guaranteed that W is nonempty and the length of every word does not exceed L. \n",
    "# The function should return the smallest possible penalty for a text with words W and the line width L given that there is no penalty for the last line.\n",
    "# Example. For L = 15 and W = [\"jars\", \"jaws\", \"joke\", \"jury\", \"juxtaposition\"], the answer must be 432.\n",
    "\n",
    "W_ex = [\"jars\", \"jaws\", \"joke\", \"jury\", \"juxtaposition\"]\n",
    "L_ex = 15\n",
    "\n",
    "# tj_cost with no penalty for the last line\n",
    "def tj_cost(L, W):\n",
    "    n = len(W)\n",
    "    tbl = [math.inf] * (n+1)\n",
    "    tbl[0] = 0\n",
    "    \n",
    "    for i in range(1, n+1):\n",
    "        length = -1\n",
    "        for j in range(i-1, -2, -1):\n",
    "            length += 1 + len(W[j])\n",
    "            if length > L:\n",
    "                P = math.inf\n",
    "            elif i == n:\n",
    "                P = 0\n",
    "            else:\n",
    "                P = (L - length)**3\n",
    "            tbl[i] = min([tbl[i], tbl[j] + P])\n",
    "    return tbl[n-1]\n",
    "\n",
    "tj_cost(L_ex, W_ex)"
   ]
  },
  {
   "cell_type": "code",
   "execution_count": 159,
   "metadata": {},
   "outputs": [
    {
     "data": {
      "text/plain": [
       "'jars jaws \\njoke jury \\njuxtaposition'"
      ]
     },
     "execution_count": 159,
     "metadata": {},
     "output_type": "execute_result"
    }
   ],
   "source": [
    "# You have to construct a function tj(L, W), where L is the line width and W is a list of words. \n",
    "# It is guaranteed that W is nonempty and the length of every word does not exceed L. \n",
    "# The function should return a text (that is, a single string variable with words within a line separated by a single space and the lines separated by \"\\n\") acheiving the smallest possible penalty for a text with words W and the line width L given that there is no penalty for the last line.\n",
    "\n",
    "#Example. For L = 15 and W = [\"jars\", \"jaws\", \"joke\", \"jury\", \"juxtaposition\"], the answer must be: \n",
    "\n",
    "#\"jars jaws\\njoke jury\\njuxtaposition\".\n",
    "import math\n",
    "\n",
    "W_ex = [\"jars\", \"jaws\", \"joke\", \"jury\", \"juxtaposition\"]\n",
    "L_ex = 15\n",
    "\n",
    "def tj(L,W):\n",
    "    n = len(W)\n",
    "    tbl = [math.inf] * (n+1)\n",
    "    tbl[0] = 0\n",
    "    split = [0] * (n+1)\n",
    "    \n",
    "    for i in range(1, n+1):\n",
    "        length = -1\n",
    "        for j in range(i-1, -2, -1):\n",
    "            length += 1 + len(W[j])\n",
    "            if length > L:\n",
    "                P = math.inf\n",
    "            else:\n",
    "                P = (L - length)**3\n",
    "            if tbl[j] + P < tbl[i]:\n",
    "                tbl[i] = tbl[j] + P\n",
    "                split[i] = j\n",
    "\n",
    "    t = n\n",
    "    text = []\n",
    "    while t > 0:\n",
    "        text.append(\" \".join(W[split[t]:t]))\n",
    "        t = split[t]\n",
    "    return \"\"\" \n",
    "\"\"\".join(text[::-1])\n",
    "\n",
    "\n",
    "tj(L_ex, W_ex)"
   ]
  },
  {
   "attachments": {},
   "cell_type": "markdown",
   "metadata": {},
   "source": [
    "# `DS&A 2 - week 1`\n",
    "Adjusency matrices & lists, DFS"
   ]
  },
  {
   "cell_type": "code",
   "execution_count": 26,
   "metadata": {},
   "outputs": [
    {
     "name": "stdout",
     "output_type": "stream",
     "text": [
      "True\n"
     ]
    }
   ],
   "source": [
    "# Given an adjacency matrix of a graph determine if the graph contains loops. (A loop is an edge that connects the vertex to itself)\n",
    "\n",
    "def hasLoops(adj_matrix):\n",
    "    n = len(adj_matrix)\n",
    "    has_loops = False\n",
    "    \n",
    "    for i in range(n):\n",
    "        for j in range(n):\n",
    "            if (i == j) & (adj_matrix[i][j] == 1):\n",
    "                has_loops = True\n",
    "                break\n",
    "    return has_loops\n",
    "\n",
    "adj_matrix = [\n",
    "[1, 1, 1, 1, 0, ], \n",
    "[1, 0, 1, 1, 1, ], \n",
    "[1, 1, 0, 1, 1, ], \n",
    "[1, 1, 1, 1, 1, ], \n",
    "[0, 1, 1, 1, 0, ]]\n",
    "\n",
    "print(hasLoops(adj_matrix))"
   ]
  },
  {
   "cell_type": "code",
   "execution_count": 25,
   "metadata": {},
   "outputs": [
    {
     "name": "stdout",
     "output_type": "stream",
     "text": [
      "True\n"
     ]
    }
   ],
   "source": [
    "# Given an adjacency matrix of a graph determine if the graph can be an undirected graph with no loops.\n",
    "\n",
    "def isUndirected(adj_matrix):\n",
    "    n = len(adj_matrix)\n",
    "    is_undirected = True\n",
    "\n",
    "    for i in range(n):\n",
    "        for j in range(n):\n",
    "            if (adj_matrix[i][j] != adj_matrix[j][i]) or (adj_matrix[i][j] == 1 and i == j):\n",
    "                is_undirected = False\n",
    "                break\n",
    "    return is_undirected\n",
    "\n",
    "\n",
    "adj_matrix = [\n",
    "    [0, 0, 1, 0, 0, ], \n",
    "    [0, 0, 1, 0, 1, ], \n",
    "    [1, 1, 0, 0, 0, ], \n",
    "    [0, 0, 0, 0, 0, ], \n",
    "    [0, 1, 0, 0, 0, ]]\n",
    "\n",
    "print(isUndirected(adj_matrix))"
   ]
  },
  {
   "cell_type": "code",
   "execution_count": 27,
   "metadata": {},
   "outputs": [
    {
     "name": "stdout",
     "output_type": "stream",
     "text": [
      "3\n"
     ]
    }
   ],
   "source": [
    "# Given an adjacency matrix of an undirected graph count the number of edges in the graph.\n",
    "\n",
    "def countEdges(adj_matrix):\n",
    "    n = len(adj_matrix)\n",
    "    edges_count = 0\n",
    "\n",
    "    for i in range(n):\n",
    "        for j in range(n):\n",
    "            if adj_matrix[i][j] == 1:\n",
    "                edges_count += 1\n",
    "    return edges_count // 2\n",
    "\n",
    "adj_matrix = [\n",
    "[0, 0, 1, 0, 0, ], \n",
    "[0, 0, 1, 0, 1, ], \n",
    "[1, 1, 0, 0, 0, ], \n",
    "[0, 0, 0, 0, 0, ], \n",
    "[0, 1, 0, 0, 0, ], ]\n",
    "\n",
    "print(countEdges(adj_matrix))"
   ]
  },
  {
   "cell_type": "code",
   "execution_count": 18,
   "metadata": {},
   "outputs": [
    {
     "name": "stdout",
     "output_type": "stream",
     "text": [
      "3\n"
     ]
    }
   ],
   "source": [
    "# Given an adjacency list for an undirected graph count the number of edges in it.\n",
    "\n",
    "adj_list = [[2], [2, 4], [0, 1], [], [1]]\n",
    "\n",
    "def edgesCount(adj_list):\n",
    "    n = len(adj_list)\n",
    "    edges_count = 0\n",
    "\n",
    "    for v in range(n):\n",
    "        edges_count += len(adj_list[v])\n",
    "    return edges_count // 2\n",
    "\n",
    "print(edgesCount(adj_list))"
   ]
  },
  {
   "cell_type": "code",
   "execution_count": 37,
   "metadata": {},
   "outputs": [
    {
     "data": {
      "text/plain": [
       "[[], [0, 3], [0, 1], []]"
      ]
     },
     "execution_count": 37,
     "metadata": {},
     "output_type": "execute_result"
    }
   ],
   "source": [
    "# Given an adjacency list of a directed graph, reverse it (change the direction of all edges) and output it as an adjacency list\n",
    "\n",
    "def reverseGraph(adj_list):\n",
    "    n = len(adj_list)\n",
    "    reversed_graph = [[] for _ in range(n)]\n",
    "\n",
    "    for i in range(n):\n",
    "        for j in range(len(adj_list[i])):\n",
    "            reversed_graph[adj_list[i][j]].append(i)\n",
    "    return reversed_graph\n",
    "\n",
    "adj_list = [[1, 2], [2], [], [1]]\n",
    "reverseGraph(adj_list)"
   ]
  },
  {
   "cell_type": "code",
   "execution_count": 21,
   "metadata": {},
   "outputs": [
    {
     "name": "stdout",
     "output_type": "stream",
     "text": [
      "False\n"
     ]
    }
   ],
   "source": [
    "# Given an adjacency list for the directed graph determine if the relation between objects represented by a graph has the transitive property. \n",
    "# (meaning that if there are edges v1 -> v2 and v2 -> v3 there exists an edge v1 -> v3)\n",
    "\n",
    "def isTransitive(adj_list):\n",
    "    n = len(adj_list)\n",
    "    is_transitive = True\n",
    "\n",
    "    for v in range(n):\n",
    "        for e in range(len(adj_list[v])):\n",
    "            for path in range(len(adj_list[adj_list[v][e]])):\n",
    "                if adj_list[adj_list[v][e]][path] not in adj_list[v]:\n",
    "                    is_transitive = False\n",
    "                    break\n",
    "    return is_transitive\n",
    "\n",
    "adj_list = [[1, 3, 4, 5, 6, 8, 9], [], [6], [1, 2, 4, 5, 6], [1, 2, 5, 6], [1, 2, 6], [], [1, 2, 3, 4, 5, 6, 9], [1, 2, 3, 4, 5, 6], []]\n",
    "print(isTransitive(adj_list))"
   ]
  },
  {
   "cell_type": "code",
   "execution_count": 22,
   "metadata": {},
   "outputs": [],
   "source": [
    "# Given an adjacency matrix for an undirected graph and a vertex, modify the dfs algorithm to output the number of vertices in the same graph component as the given one (counting the given one).\n",
    "# The function must work correctly when called several times, e.g. don't use global variables or test it by calling more than once.\n",
    "\n",
    "# Edit code below to solve the task:\n",
    "\n",
    "graph = []\n",
    "visited = []\n",
    "vertex_count=[]\n",
    "\n",
    "def dfs(v):\n",
    "    global graph, visited\n",
    "    visited[v] = True\n",
    "    for i in range(len(graph)):\n",
    "        if (graph[v][i] == 1 and (not visited[i])):\n",
    "            vertex_count.append(v)\n",
    "            dfs(i)\n",
    "            \n",
    "def sameComponent(adj_list, vertex):\n",
    "    global graph, visited\n",
    "    graph = adj_list\n",
    "    n = len(graph)\n",
    "    visited = [False for i in range(n)]\n",
    "    vertex_count.append(vertex)\n",
    "    dfs(vertex)\n",
    "    return len(vertex_count)\n"
   ]
  },
  {
   "cell_type": "code",
   "execution_count": 23,
   "metadata": {},
   "outputs": [
    {
     "name": "stdout",
     "output_type": "stream",
     "text": [
      "False\n"
     ]
    }
   ],
   "source": [
    "# Given the adjacency list of an undirected graph check if a graph is a tree.\n",
    "# Edit code below to solve the task.\n",
    "\n",
    "graph = []\n",
    "visited = []\n",
    "\n",
    "def dfs(v):\n",
    "    visited[v] = True\n",
    "    for i in range(len(graph[v])):\n",
    "        if (not visited[graph[v][i]]):\n",
    "            dfs(graph[v][i])\n",
    "\n",
    "def isTree(adj_list):\n",
    "    global graph, visited\n",
    "    n = len(adj_list)\n",
    "    graph = adj_list\n",
    "    visited = [False for i in range(n)]\n",
    "    is_tree = True\n",
    "\n",
    "    dfs(0)\n",
    "\n",
    "    for i in range(n):\n",
    "        if not visited[i]:\n",
    "            is_tree = False\n",
    "            break\n",
    "    return is_tree\n",
    "\n",
    "\n",
    "adj_list = [[1, 2], [0, 2], [0, 1], [4], [3], []]\n",
    "print(isTree(adj_list))\n",
    "\n"
   ]
  },
  {
   "cell_type": "code",
   "execution_count": 41,
   "metadata": {},
   "outputs": [
    {
     "name": "stdout",
     "output_type": "stream",
     "text": [
      "[0, 3, 1, 2]\n"
     ]
    }
   ],
   "source": [
    "# Given a list of courses and a list of prerequisites for each course (in a form of a dict) output the list of courses sorted in such a way that each course appears in this list only after all it's prerequisites. If it is not possible, output -1.\n",
    "def dfs(v):\n",
    "    visited[v] = True\n",
    "    for u in range(len(graph[v])):\n",
    "        if not visited[graph[v][u]]:\n",
    "            dfs(graph[v][u])\n",
    "    course_order.append(v)\n",
    "\n",
    "\n",
    "def sortCourses(course_list, prerequisites_dict):\n",
    "    global course_order, graph, visited\n",
    "    n = len(course_list)\n",
    "    course_order = []\n",
    "\n",
    "    prerequisites_dict[0] = []\n",
    "    graph = [[] for i in range(n)]\n",
    "    \n",
    "    for vertex, edges in prerequisites_dict.items():\n",
    "        for edge in edges:\n",
    "            graph[edge].append(vertex)\n",
    "\n",
    "    visited = [False for i in range(len(graph))]\n",
    "\n",
    "    for v in range(len(graph)):\n",
    "        if not visited[v]:\n",
    "            dfs(v)\n",
    "    \n",
    "    if len(course_order) == 0:\n",
    "        return -1\n",
    "    return course_order[::-1]\n",
    "\n",
    "\n",
    "course_list = [1, 2, 0, 3]\n",
    "prerequisites_dict = {1: [2, 0], 2: [1], 3: [0]}\n",
    "print(sortCourses(course_list, prerequisites_dict))"
   ]
  },
  {
   "cell_type": "code",
   "execution_count": 1,
   "metadata": {},
   "outputs": [
    {
     "name": "stdout",
     "output_type": "stream",
     "text": [
      "[0, 10, 20, inf, inf, inf]\n"
     ]
    }
   ],
   "source": [
    "# Given an adjacency matrix with weights of edges instead of 0 and 1 (if there is no edge between the vertices that value is replaced with float(\"inf\")), and a source vertex v_from, return a distance array of shortest path distances from this vertex to all others.\n",
    "\n",
    "def BellmanFord(weight_matrix, v_from):\n",
    "    n, graph = len(weight_matrix), weight_matrix\n",
    "    dist = [float(\"inf\") for _ in range(n)]\n",
    "    dist[v_from] = 0\n",
    "    \n",
    "    for _ in range(n-1):\n",
    "        for v in range(n):\n",
    "            for u in range(n):\n",
    "                if dist[v] + graph[v][u] < dist[u] and dist[v] != float(\"inf\") and graph[v][u] != float(\"inf\"):\n",
    "                    dist[u] = dist[v] + graph[v][u]\n",
    "    return dist\n",
    "\n",
    "\n",
    "weight_matrix = [[float('inf'), 10, 100, float('inf'), float('inf'), float('inf')], [float('inf'), float('inf'), 10, float('inf'), float('inf'), float('inf')], [float('inf'), float('inf'), float('inf'), float('inf'), float('inf'), float('inf')], [float('inf'), float('inf'), float('inf'), float('inf'), -10, float('inf')], [float('inf'), float('inf'), float('inf'), float('inf'), float('inf'), float('inf')], [float('inf'), float('inf'), float('inf'), float('inf'), float('inf'), float('inf')]]\n",
    "v_from = 0\n",
    "print(BellmanFord(weight_matrix, v_from))"
   ]
  },
  {
   "cell_type": "code",
   "execution_count": 3,
   "metadata": {},
   "outputs": [
    {
     "name": "stdout",
     "output_type": "stream",
     "text": [
      "False\n"
     ]
    }
   ],
   "source": [
    "# Given an adjacency matrix with weights of edges instead of 0 and 1 (if there is no edge between the vertices that value is replaced with float(\"inf\")), return True if there is a cycle with negative cost in the graph and False if there is no such cycle.\n",
    "\n",
    "def hasNegativeCycle(weight_matrix):\n",
    "    n = len(weight_matrix)\n",
    "    has_negative_cycle = False\n",
    "\n",
    "    for v in range(n):\n",
    "        for u in range(n):\n",
    "            if weight_matrix[v][u] != float(\"inf\"):\n",
    "                for с in range(n):\n",
    "                    if weight_matrix[v][u] + weight_matrix[u][с] < weight_matrix[v][с]:\n",
    "                        has_negative_cycle = True\n",
    "                        break\n",
    "    return has_negative_cycle\n",
    "\n",
    "weight_matrix = [[float('inf')]]\n",
    "print(hasNegativeCycle(weight_matrix))"
   ]
  },
  {
   "cell_type": "code",
   "execution_count": 12,
   "metadata": {},
   "outputs": [
    {
     "name": "stdout",
     "output_type": "stream",
     "text": [
      "[[0, 6, 8, 100, 100, 100], [5, 0, 5, 100, 100, 100], [1, 7, 0, 100, 100, 100], [100, 100, 100, 0, 6, 9], [100, 100, 100, 5, 0, 3], [100, 100, 100, 2, 8, 0]]\n"
     ]
    }
   ],
   "source": [
    "# Given an adjacency matrix with weights of edges instead of 0 and 1 (if there is no edge between the vertices that value is replaced with float(\"inf\")), compute the matrix of shortest paths between all pairs of vertices using the Floyd-Warshall algorithm. \n",
    "\n",
    "from copy import deepcopy\n",
    "\n",
    "def FloydWarshall(weight_matrix):\n",
    "    n = len(weight_matrix)\n",
    "    dist = deepcopy(weight_matrix)\n",
    "    \n",
    "    for k in range(n):\n",
    "        for v in range(n):\n",
    "            for u in range(n):\n",
    "                if dist[v][k] + dist[k][u] < dist[v][u]:\n",
    "                    dist[v][u] = dist[v][k] + dist[k][u]\n",
    "    return dist\n",
    "\n",
    "weight_matrix = [[0, 6, 8, 100, 100, 100], [5, 0, 5, 100, 100, 100], [1, 7, 0, 100, 100, 100],[100, 100, 100, 0, 6, 100],[100, 100, 100, 100, 0, 3], [100, 100, 100, 2, 100, 0]]\n",
    "print(FloydWarshall(weight_matrix))"
   ]
  },
  {
   "cell_type": "code",
   "execution_count": 4,
   "metadata": {},
   "outputs": [
    {
     "name": "stdout",
     "output_type": "stream",
     "text": [
      "[0, 0, 0, 1, 0, 1, 0, 1, 2, 3, 4]\n"
     ]
    }
   ],
   "source": [
    "# Given a string compute a prefix function for this string.\n",
    "\n",
    "def prefixFunction(text):\n",
    "    n = len(text)\n",
    "    prefix_func = [0 for i in range(n)]\n",
    "\n",
    "    for i in range(1, n):\n",
    "        s = prefix_func[i-1]\n",
    "\n",
    "        while s > 0 and text[i] != text[s]:\n",
    "            s = prefix_func[s-1]\n",
    "        \n",
    "        if text[i] == text[s]:\n",
    "            s += 1\n",
    "        prefix_func[i] = s\n",
    "        \n",
    "    return prefix_func\n",
    "\n",
    "text='abracadabra'\n",
    "print(prefixFunction(text))"
   ]
  },
  {
   "cell_type": "code",
   "execution_count": 8,
   "metadata": {},
   "outputs": [
    {
     "name": "stdout",
     "output_type": "stream",
     "text": [
      "[0, 5, 7]\n"
     ]
    }
   ],
   "source": [
    "# Given a text and a pattern, find all occurrences of the pattern inside the text using the Knuth-Morris-Pratt algorithm. You should return the starting indices of the occurrences.\n",
    "\n",
    "def KMP(text, pattern):\n",
    "    n, m = len(text), len(pattern)\n",
    "    special_symbol = \"#\"\n",
    "    indices = []\n",
    "    \n",
    "    prefix = prefixFunction(pattern + special_symbol + text)\n",
    "\n",
    "    for i in range(m+1, m+n+1):\n",
    "        if prefix[i] == m:\n",
    "            indices.append(i-2*m)\n",
    "    return indices\n",
    "\n",
    "text = 'ababbababa'\n",
    "pattern = 'aba'\n",
    "print(KMP(text, pattern))"
   ]
  },
  {
   "cell_type": "code",
   "execution_count": 11,
   "metadata": {},
   "outputs": [
    {
     "name": "stdout",
     "output_type": "stream",
     "text": [
      "[0, 0, 0, 1, 0, 1, 0, 4, 0, 0, 1]\n"
     ]
    }
   ],
   "source": [
    "# Given a string, compute a z-function array for it.\n",
    "\n",
    "def zFunction(text):\n",
    "    n = len(text)\n",
    "    z_func = [0 for i in range(n)]\n",
    "  \n",
    "    l, r = 0, 0\n",
    "    for i in range(1, n):\n",
    "        if i <= r:\n",
    "            z_func[i] = min(r-i+1, z_func[i-l])\n",
    "        \n",
    "        while i + z_func[i] < n and text[z_func[i]] == text[i + z_func[i]]:\n",
    "            z_func[i] += 1\n",
    "        \n",
    "        if i + z_func[i] - 1 > r:\n",
    "            l, r = i, i + z_func[i] - 1\n",
    "  \n",
    "    return z_func\n",
    "\n",
    "\n",
    "text = 'abracadabra'\n",
    "print(zFunction(text))"
   ]
  },
  {
   "cell_type": "code",
   "execution_count": 29,
   "metadata": {},
   "outputs": [
    {
     "name": "stdout",
     "output_type": "stream",
     "text": [
      "[0, 5, 7, 9, 12, 14, 16]\n"
     ]
    }
   ],
   "source": [
    "# Given a text and a pattern find all occurrences of the pattern inside the text using the Rabin-Karp algorithm. You should output the starting indices of the matches.\n",
    "\n",
    "def RabinKarp(text, pattern):\n",
    "    p, q = 31, 10 ** 9 + 7\n",
    "    n, m = len(text), len(pattern)\n",
    "    p_pow = [1 for _ in range(n)]\n",
    "    h = [0 for _ in range(n+1)]\n",
    "    h_pattern = 0\n",
    "    indices = []\n",
    "\n",
    "    for i in range(1, n):\n",
    "        p_pow[i] = (p_pow[i-1] * p) % q\n",
    "\n",
    "    for i in range(n):\n",
    "        h[i+1] = (h[i] + (ord(text[i]) - ord('a') + 1) * p_pow[i]) % q\n",
    "\n",
    "    for i in range(m):\n",
    "        h_pattern = (h_pattern + (ord(pattern[i]) - ord('a') + 1) * p_pow[i]) % q\n",
    "\n",
    "    for i in range(n-m+1):\n",
    "        cur_h = (h[i+m] + q - h[i]) % q\n",
    "        if cur_h == h_pattern * p_pow[i] % q:\n",
    "            indices.append(i)\n",
    "    \n",
    "    return indices\n",
    "\n",
    "text = 'ababbabababaabababa'\n",
    "pattern = 'aba'\n",
    "print(RabinKarp(text, pattern))\n"
   ]
  },
  {
   "cell_type": "code",
   "execution_count": 2,
   "metadata": {},
   "outputs": [
    {
     "name": "stdout",
     "output_type": "stream",
     "text": [
      "False\n"
     ]
    }
   ],
   "source": [
    "# You were tasked with designing a team oracle. It is an oracle, that given a size of a team, and a list of tasks with their start and finishing times, determines if those tasks can be performed by this team without them overlapping. Each member of a team can only work on one task at a time.\n",
    "\n",
    "def teamOracle(team_size, start_times, finish_times):\n",
    "    can_do = True\n",
    "    n = len(start_times)\n",
    "    tasks = [(start_times[i], finish_times[i]) for i in range(n)]\n",
    "    tasks.sort(key=lambda x: x[0])\n",
    "    team = []\n",
    "    for i in range(n):\n",
    "        if len(team) == team_size:\n",
    "            team.pop(0)\n",
    "        for j in range(len(team)):\n",
    "            if tasks[i][0] < team[j][1]:\n",
    "                can_do = False\n",
    "                break\n",
    "        team.append(tasks[i])\n",
    "    return can_do\n",
    "\n",
    "\n",
    "team_size = 9\n",
    "start_times = [6, 10, 3, 1, 10, 1, 6, 20, 1, 12, 5, 1, 5, 6, 5, 7, 1, 13]\n",
    "finish_times = [11, 15, 18, 19, 17, 10, 16, 21, 1, 21, 9, 10, 10, 11, 6, 11, 19, 15]\n",
    "print(teamOracle(team_size, start_times, finish_times))"
   ]
  },
  {
   "cell_type": "code",
   "execution_count": 9,
   "metadata": {},
   "outputs": [
    {
     "name": "stdout",
     "output_type": "stream",
     "text": [
      "0\n"
     ]
    }
   ],
   "source": [
    "# There is a faulty server, that can work without restarting no longer than t minutes. Restarting a server takes exactly 1 minute. You're given a list of times when there will be no requests to the server for a minute in the form of integers representing difference between no-request start time and current time, sorted increasingly from the current moment.\n",
    "\n",
    "# You should output the minimum time of restarts needed for server to work for m minutes starting from now. If the server would have to restart when there are requests sent to it, output -1 instead.\n",
    "\n",
    "def minRestarts(m, t, no_request_times):\n",
    "    min_restarts = 0\n",
    "    n = len(no_request_times)\n",
    "    \n",
    "    if n == 0:\n",
    "        return -1\n",
    "    \n",
    "    if no_request_times[0] > t:\n",
    "        return -1\n",
    "    \n",
    "    if m <= t:\n",
    "        return 0\n",
    "    \n",
    "    for i in range(n):\n",
    "        if i == n-1:\n",
    "            if m - no_request_times[i] > t:\n",
    "                min_restarts += 1\n",
    "            break\n",
    "        if no_request_times[i+1] - no_request_times[i] > t:\n",
    "            min_restarts += 1\n",
    "            \n",
    "    return min_restarts\n",
    "\n",
    "m = 100\n",
    "t = 100\n",
    "no_request_times = [10, 20, 80]\n",
    "print(minRestarts(m, t, no_request_times))\n"
   ]
  },
  {
   "cell_type": "code",
   "execution_count": 46,
   "metadata": {},
   "outputs": [
    {
     "name": "stdout",
     "output_type": "stream",
     "text": [
      "18\n"
     ]
    }
   ],
   "source": [
    "# You are given several sets and a following operation: you can unite two sets into one set with the size equal to the sum of the sizes of the two original sets. the cost of this operation is the size of the resulting set. Find a way to unite all the sets into one, with the total sum of all operations used to do this minimal.\n",
    "\n",
    "def minUnionCost(set_sizes):\n",
    "    n = len(set_sizes)\n",
    "    min_sum = 0\n",
    "    set_sizes.sort()\n",
    "\n",
    "    while n > 1:\n",
    "        min_sum += set_sizes[0] + set_sizes[1]\n",
    "        set_sizes[1] += set_sizes[0]\n",
    "        set_sizes.pop(0)\n",
    "        set_sizes.sort()\n",
    "        n -= 1\n",
    "\n",
    "    return min_sum\n",
    "\n",
    "\n",
    "set_sizes = [6, 2, 4]\n",
    "print(minUnionCost(set_sizes))"
   ]
  },
  {
   "cell_type": "code",
   "execution_count": 15,
   "metadata": {},
   "outputs": [
    {
     "name": "stdout",
     "output_type": "stream",
     "text": [
      "[1, 2, 3, 4]\n"
     ]
    }
   ],
   "source": [
    "# Given an array of integers sort it in increasing order using the Bubble Sort algorithm.\n",
    "\n",
    "def BubbleSort(array):\n",
    "    n = len(array)\n",
    "\n",
    "    for i in range(n):\n",
    "        for j in range(n-i-1):\n",
    "            if array[j] > array[j+1]:\n",
    "                array[j], array[j+1] = array[j+1], array[j]\n",
    "                \n",
    "    return array\n",
    "\n",
    "arr = [2, 3, 4, 1]\n",
    "print(BubbleSort(arr))"
   ]
  },
  {
   "cell_type": "code",
   "execution_count": 13,
   "metadata": {},
   "outputs": [
    {
     "name": "stdout",
     "output_type": "stream",
     "text": [
      "[1, 2, 3, 4]\n"
     ]
    }
   ],
   "source": [
    "# Given an array of integers sort it in increasing order using the Insertion Sort algorithm.\n",
    "\n",
    "def InsertionSort(array):\n",
    "    n = len(array)\n",
    "\n",
    "    for i in range(1, n):\n",
    "        k = arr[i]\n",
    "        j = i - 1\n",
    "        while j >= 0 and arr[j] > k:\n",
    "            arr[j+1] = arr[j]\n",
    "            j -= 1\n",
    "            arr[j+1] = k\n",
    "\n",
    "    return array\n",
    "\n",
    "arr = [2, 3, 4, 1]\n",
    "print(InsertionSort(arr))"
   ]
  },
  {
   "cell_type": "code",
   "execution_count": 14,
   "metadata": {},
   "outputs": [
    {
     "name": "stdout",
     "output_type": "stream",
     "text": [
      "[1, 2, 3, 4]\n"
     ]
    }
   ],
   "source": [
    "# Given an array of integers sort it in increasing order using the Selection Sort algorithm.\n",
    "\n",
    "\n",
    "def SelectionSort(array):\n",
    "    n = len(array)\n",
    "    \n",
    "    for i in range(n-1):\n",
    "        min_i = array.index(min(array[i:]))\n",
    "        array[i], array[min_i] = array[min_i], array[i]\n",
    "        \n",
    "    return array\n",
    "\n",
    "arr = [2, 3, 4, 1]\n",
    "print(SelectionSort(arr))"
   ]
  },
  {
   "cell_type": "code",
   "execution_count": 22,
   "metadata": {},
   "outputs": [
    {
     "name": "stdout",
     "output_type": "stream",
     "text": [
      "[1, 1, 3]\n"
     ]
    }
   ],
   "source": [
    "# Given an array of integers, and the bounds for values in the array, return the array sorted in an increasing order using the Counting Sort algorithm.\n",
    "\n",
    "def countingsort(array, lowerbound, upperbound):\n",
    "    n = len(array)\n",
    "    sorted_array = []\n",
    "    count = [0 for i in range(lowerbound, upperbound + 1)]\n",
    "\n",
    "    for i in range(n):\n",
    "        count[array[i] - lowerbound] += 1\n",
    "\n",
    "    for i in range(lowerbound, upperbound + 1):\n",
    "        for j in range(count[i - lowerbound]):\n",
    "            sorted_array.append(i)\n",
    "\n",
    "    return sorted_array\n",
    "\n",
    "arr = [1, 3, 1]\n",
    "lowerbound = 0\n",
    "upperbound = 3\n",
    "print(countingsort(arr, lowerbound, upperbound))\n"
   ]
  },
  {
   "cell_type": "code",
   "execution_count": 44,
   "metadata": {},
   "outputs": [
    {
     "name": "stdout",
     "output_type": "stream",
     "text": [
      "['Anna', 'Ivan', 'John']\n"
     ]
    }
   ],
   "source": [
    "# You are given a list of names, each name is not longer than 20 characters. Return them sorted in an increasing order, using the Radix Sort algorithm.\n",
    "\n",
    "def radixsort(names):\n",
    "    n = len(names)\n",
    "    max_len = 0\n",
    "\n",
    "    for i in range(n):\n",
    "        if len(names[i]) > max_len:\n",
    "            max_len = len(names[i])\n",
    "\n",
    "    for i in range(n):\n",
    "        names[i] = names[i].ljust(max_len)\n",
    "\n",
    "    for i in range(max_len-1, -1, -1):\n",
    "        names.sort(key=lambda n: n[i])\n",
    "\n",
    "    return names\n",
    "\n",
    "arr = ['Ivan', 'John', 'Anna']\n",
    "print(radixsort(arr))"
   ]
  },
  {
   "cell_type": "code",
   "execution_count": 10,
   "metadata": {},
   "outputs": [
    {
     "name": "stdout",
     "output_type": "stream",
     "text": [
      "False\n"
     ]
    }
   ],
   "source": [
    "# Given two strings determine if one of them is an anagram of the other.\n",
    "\n",
    "def isAnagram(string1, string2):\n",
    "    is_anagram = True\n",
    "    n, m = len(string1), len(string2)\n",
    "    hash1, hash2 = dict(), dict()\n",
    "\n",
    "    if n != m:\n",
    "        return False\n",
    "\n",
    "    for i in range(n):\n",
    "        if string1[i] in hash1:\n",
    "            hash1[string1[i]] += 1\n",
    "        else:\n",
    "            hash1[string1[i]] = 1\n",
    "\n",
    "    for i in range(m):\n",
    "        if string2[i] in hash2:\n",
    "            hash2[string2[i]] += 1\n",
    "        else:\n",
    "            hash2[string2[i]] = 1\n",
    "\n",
    "    for key in hash1:\n",
    "        if key not in hash2:\n",
    "            is_anagram = False\n",
    "            break \n",
    "        if hash1[key] != hash2[key]:\n",
    "            is_anagram = False\n",
    "            break\n",
    "\n",
    "    return is_anagram\n",
    "\n",
    "string1 = 'ananas'\n",
    "string2 = 'nnaass'\n",
    "\n",
    "# expected False\n",
    "print(isAnagram(string1, string2))\n"
   ]
  },
  {
   "cell_type": "code",
   "execution_count": 21,
   "metadata": {},
   "outputs": [
    {
     "name": "stdout",
     "output_type": "stream",
     "text": [
      "5\n"
     ]
    }
   ],
   "source": [
    "# Given a string find the lengths of its longest substring without repeating characters. Use hash-table for the algorithm.\n",
    "\n",
    "def longestNonRepeating(text):\n",
    "    n = len(text)\n",
    "    longest = 0\n",
    "    hash_t = dict()\n",
    "\n",
    "    for i in range(n):\n",
    "        if text[i] in hash_t:\n",
    "            if len(hash_t) > longest:\n",
    "                longest = len(hash_t)\n",
    "            hash_t = dict()\n",
    "        hash_t[text[i]] = 1\n",
    "\n",
    "    if len(hash_t) > longest:\n",
    "        longest = len(hash_t)\n",
    "    \n",
    "    return longest\n",
    "\n",
    "text = 'baabcef'\n",
    "print(longestNonRepeating(text))"
   ]
  },
  {
   "cell_type": "code",
   "execution_count": 25,
   "metadata": {},
   "outputs": [
    {
     "name": "stdout",
     "output_type": "stream",
     "text": [
      "[2]\n"
     ]
    }
   ],
   "source": [
    "# Given two arrays return their intersection (in any order). Use hash table.\n",
    "\n",
    "def arrayIntersection(array1, array2):\n",
    "    intersection = []\n",
    "    hash_t = dict()\n",
    "    n = len(array1)\n",
    "    m = len(array2)\n",
    "\n",
    "    for i in range(n):\n",
    "        hash_t[array1[i]] = 1\n",
    "    \n",
    "    for i in range(m):\n",
    "        if array2[i] in hash_t:\n",
    "            intersection.append(array2[i])\n",
    "\n",
    "    return intersection\n",
    "\n",
    "array1 = [1, 2, 3]\n",
    "array2 = [2, 4, 5]\n",
    "print(sorted(arrayIntersection(array1, array2)))\n"
   ]
  },
  {
   "cell_type": "code",
   "execution_count": 51,
   "metadata": {},
   "outputs": [
    {
     "name": "stdout",
     "output_type": "stream",
     "text": [
      "True\n"
     ]
    }
   ],
   "source": [
    "# Given an array transform it into a minimum heap in-place (you do not have to return anything).\n",
    "\n",
    "def _intermediateHeapifier(array, i, n):\n",
    "    left = 2 * i + 1\n",
    "    right = 2 * i + 2\n",
    "    smallest = i\n",
    "\n",
    "    if left < n and array[left] < array[smallest]:\n",
    "        smallest = left\n",
    "\n",
    "    if right < n and array[right] < array[smallest]:\n",
    "        smallest = right\n",
    "\n",
    "    if smallest != i:\n",
    "        array[i], array[smallest] = array[smallest], array[i]\n",
    "        _intermediateHeapifier(array, smallest, n)\n",
    "\n",
    "    return\n",
    "    \n",
    "def heapify(array):\n",
    "    n = len(array)\n",
    "\n",
    "    for i in range(n//2, -1, -1):\n",
    "        _intermediateHeapifier(array, i, n)\n",
    "\n",
    "    return\n",
    "\n",
    "arr = [3, 2, 1]\n",
    "heapify(arr)\n",
    "print(arr in [[1, 2, 3], [1, 3, 2]])\n",
    "\n"
   ]
  },
  {
   "cell_type": "code",
   "execution_count": 52,
   "metadata": {},
   "outputs": [
    {
     "name": "stdout",
     "output_type": "stream",
     "text": [
      "[1, 2, 3]\n"
     ]
    }
   ],
   "source": [
    "# Given an array of integers return it sorted in an increasing order (!) using the Heapsort algorithm. Use the heapify function from the previous task.\n",
    "\n",
    "def heapsort(array):\n",
    "    n = len(array)\n",
    "    heapify(array)\n",
    "\n",
    "    for i in range(n-1, 0, -1):\n",
    "        array[0], array[i] = array[i], array[0]\n",
    "        _intermediateHeapifier(array, 0, i)\n",
    "\n",
    "    return array[::-1]\n",
    "\n",
    "arr = [3, 2, 1]\n",
    "print(heapsort(arr))\n"
   ]
  },
  {
   "cell_type": "code",
   "execution_count": null,
   "metadata": {},
   "outputs": [],
   "source": []
  }
 ],
 "metadata": {
  "kernelspec": {
   "display_name": "base",
   "language": "python",
   "name": "python3"
  },
  "language_info": {
   "codemirror_mode": {
    "name": "ipython",
    "version": 3
   },
   "file_extension": ".py",
   "mimetype": "text/x-python",
   "name": "python",
   "nbconvert_exporter": "python",
   "pygments_lexer": "ipython3",
   "version": "3.9.12"
  },
  "orig_nbformat": 4,
  "vscode": {
   "interpreter": {
    "hash": "cd78fef2128015050713e82ca51c6520b11aee7c9ee8df750520bbbc7384cbaa"
   }
  }
 },
 "nbformat": 4,
 "nbformat_minor": 2
}
