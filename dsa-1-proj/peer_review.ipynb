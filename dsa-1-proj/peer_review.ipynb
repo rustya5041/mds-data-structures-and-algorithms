{
 "cells": [
  {
   "attachments": {},
   "cell_type": "markdown",
   "metadata": {},
   "source": [
    "# `by Magomedov Rustam`"
   ]
  },
  {
   "attachments": {},
   "cell_type": "markdown",
   "metadata": {},
   "source": [
    "## Algorithm 1"
   ]
  },
  {
   "attachments": {},
   "cell_type": "markdown",
   "metadata": {},
   "source": [
    "**`1.1`**  \n",
    "\n",
    "- **This `algorithm does not check the first element of the array (the 0 index)`. It will return _`None`_ if the key is present in the array but is located in the zero index.**\n",
    "\n",
    "**Let us prove the bug by some sample input.**"
   ]
  },
  {
   "cell_type": "code",
   "execution_count": 7,
   "metadata": {},
   "outputs": [
    {
     "name": "stdout",
     "output_type": "stream",
     "text": [
      "Before the bugfix: zero index is not found\n"
     ]
    }
   ],
   "source": [
    "# initial algorithm\n",
    "def bsearch1(arr, key):\n",
    "    low, high = 0, len(arr)\n",
    "    while high - low > 1:  # bug\n",
    "        mid = (low + high) // 2\n",
    "        if arr[mid] == key:\n",
    "            return mid\n",
    "        elif arr[mid] < key:\n",
    "            low = mid\n",
    "        else:\n",
    "            high = mid\n",
    "    return None\n",
    "\n",
    "# Sample input for the first algorithm\n",
    "b1_si = [1, 2, 3]\n",
    "\n",
    "# check\n",
    "try:\n",
    "    assert bsearch1(b1_si, 1) == 0  # should return True, because key 1 is located in the 0 index\n",
    "except AssertionError:\n",
    "    print('Before the bugfix: zero index is not found')"
   ]
  },
  {
   "attachments": {},
   "cell_type": "markdown",
   "metadata": {},
   "source": [
    "**`1.2`**  \n",
    "**The bug can be fixed by allowing to check the 0-th element of the array. The following code snippet shows the fixed version of the algorithm:**"
   ]
  },
  {
   "cell_type": "code",
   "execution_count": 5,
   "metadata": {},
   "outputs": [
    {
     "name": "stdout",
     "output_type": "stream",
     "text": [
      "After the bugfix: zero index is found, the bug is fixed\n"
     ]
    }
   ],
   "source": [
    "# here's the function with the fixed bug\n",
    "def bsearch1_fixed(arr, key):\n",
    "    low, high = 0, len(arr)\n",
    "    while high - low >= 1:  # bugfix\n",
    "        mid = (low + high) // 2\n",
    "        if arr[mid] == key:\n",
    "            return mid\n",
    "        elif arr[mid] < key:\n",
    "            low = mid\n",
    "        else:\n",
    "            high = mid\n",
    "    return None\n",
    "\n",
    "# check that the bug is fixed now\n",
    "if bsearch1_fixed(b1_si, 1) == 0:  # should return True, because key 1 is located in the 0 index\n",
    "    print('After the bugfix: zero index is found, the bug is fixed')"
   ]
  },
  {
   "attachments": {},
   "cell_type": "markdown",
   "metadata": {},
   "source": [
    "**`1.3`**  \n",
    "**The 'natural test' for checking that the 0-th index is present would entail making the test array and checking that when searching for each value in that array you get the list of values from $0$ to $n$, where $n =$ len(arr). Let me provide the example below.**"
   ]
  },
  {
   "cell_type": "code",
   "execution_count": 216,
   "metadata": {},
   "outputs": [
    {
     "name": "stdout",
     "output_type": "stream",
     "text": [
      "All indeces were found\n"
     ]
    }
   ],
   "source": [
    "# initialising an array of 12 elements => 11 indeces\n",
    "arr = [100, 200, 300, 400, 500, 600, 700, 800, 900, 1000, 1100, 1200]\n",
    "\n",
    "# obtaining the array length\n",
    "n = len(arr)\n",
    "\n",
    "# initialising a list of obtained indeces after running the binary search\n",
    "indeces = []\n",
    "\n",
    "# iterating over the array and appending the indeces to the list\n",
    "for i in arr:\n",
    "    indeces.append(bsearch1_fixed(arr, i))\n",
    "\n",
    "# checking that the indeces are correct\n",
    "try:\n",
    "    assert indeces == [0, 1, 2, 3, 4, 5, 6, 7, 8, 9, 10, 11]\n",
    "    print('All indeces were found')\n",
    "except AssertionError:\n",
    "    print('The bug is still present')\n"
   ]
  },
  {
   "cell_type": "markdown",
   "metadata": {},
   "source": [
    "## Algorithm 2"
   ]
  },
  {
   "attachments": {},
   "cell_type": "markdown",
   "metadata": {},
   "source": [
    "**`2.1`**  \n",
    "\n",
    "There are two bugs associated with the algorithm.\n",
    "\n",
    "- **Firstly, this algorithm does not check the case when the array contains zero values only and the key is a non-zero value. Since the inequality for `right < left` is not strict, it does not cover the cases of zero value arrays. I highlight it using the *`b2_si1`* sample input**\n",
    "- **Secondly, the algorithm throws either the recursion error or index error when the array does not contain the specified key. I highlight it using the *`b2_si2`* sample input**"
   ]
  },
  {
   "cell_type": "code",
   "execution_count": 217,
   "metadata": {},
   "outputs": [
    {
     "name": "stdout",
     "output_type": "stream",
     "text": [
      "Bug 1: list index out of range error is thrown\n",
      "Bug 2: maximum recursion depth exceeded in comparison error is thrown\n"
     ]
    }
   ],
   "source": [
    "# initial algorithm\n",
    "def bsearch2(arr, key, left=0, right=None):\n",
    "    if right is None:\n",
    "        right = len(arr)\n",
    "    if right < left:  # bug\n",
    "        return None\n",
    "    middle = (left + right) >> 1\n",
    "    if arr[middle] > key:\n",
    "        return bsearch2(arr, key, left, middle)\n",
    "    if arr[middle] < key:\n",
    "        return bsearch2(arr, key, middle + 1, right)\n",
    "    return middle\n",
    "\n",
    "# Sample inputs for the second algorithm to find the bug\n",
    "b2_si1 = [0,0,0]\n",
    "b2_si2 = [1,2,3,4]\n",
    "\n",
    "# first case\n",
    "try:\n",
    "    bsearch2(b2_si1, 1) == None # should return None as 1 is not in the array\n",
    "except IndexError as ie:\n",
    "    print(f'Bug 1: {ie} error is thrown')\n",
    "\n",
    "# second case\n",
    "try:\n",
    "    bsearch2(b2_si2, 0) == None # should return None as 1 is not in the array\n",
    "except  RecursionError as re:\n",
    "    print(f'Bug 2: {re} error is thrown')"
   ]
  },
  {
   "attachments": {},
   "cell_type": "markdown",
   "metadata": {},
   "source": [
    "**`2.2`**  \n",
    "\n",
    "**The bug can be fixed by allowing to check the case when the farthest left element coincides with the right one. The following code snippet shows the fixed version of the algorithm:**"
   ]
  },
  {
   "cell_type": "code",
   "execution_count": 218,
   "metadata": {},
   "outputs": [
    {
     "name": "stdout",
     "output_type": "stream",
     "text": [
      "Bug 1 is fixed\n",
      "Bug 2 is fixed\n"
     ]
    }
   ],
   "source": [
    "# initial algorithm\n",
    "def bsearch2_fixed(arr, key, left=0, right=None):\n",
    "    if right is None:\n",
    "        right = len(arr)\n",
    "    if right <= left:  # bugfix\n",
    "        return None\n",
    "    middle = (left + right) >> 1\n",
    "    if arr[middle] > key:\n",
    "        return bsearch2_fixed(arr, key, left, middle)\n",
    "    if arr[middle] < key:\n",
    "        return bsearch2_fixed(arr, key, middle + 1, right)\n",
    "    return middle\n",
    "\n",
    "# Sanity check\n",
    "# first case\n",
    "try:\n",
    "    bsearch2_fixed(b2_si1, 1) == None # should return None as 1 is not in the array\n",
    "    print(\"Bug 1 is fixed\")\n",
    "except IndexError as ie:\n",
    "    print(f'Bug 1: {ie} error is thrown')\n",
    "\n",
    "# second case\n",
    "try:\n",
    "    bsearch2_fixed(b2_si2, 0) == None # should return None as 1 is not in the array\n",
    "    print('Bug 2 is fixed')\n",
    "except  RecursionError as re:\n",
    "    print(f'Bug 2: {re} error is thrown')"
   ]
  },
  {
   "attachments": {},
   "cell_type": "markdown",
   "metadata": {},
   "source": [
    "**`2.3`**  \n",
    "\n",
    "**The unit test to avoid the bug can include the tests on sample arrays containing negative, positive, and zero values, and a mix of the three.**"
   ]
  },
  {
   "cell_type": "markdown",
   "metadata": {},
   "source": [
    "## Algorithm 3"
   ]
  },
  {
   "attachments": {},
   "cell_type": "markdown",
   "metadata": {},
   "source": [
    "**`3.1`**  \n",
    "\n",
    "- **This algorithm does not have a $O(n {\\log{_2}} n)$ complexity. When iterating over the small samples, the algorithm works under $O(n)$ complexity, where $n$ = len(arr)-1**\n",
    "\n",
    "**Let us prove the bug by some sample input.**"
   ]
  },
  {
   "cell_type": "code",
   "execution_count": 219,
   "metadata": {},
   "outputs": [
    {
     "name": "stdout",
     "output_type": "stream",
     "text": [
      "iterating\n",
      "iterating\n",
      "iterating\n",
      "iterating\n",
      "4\n"
     ]
    }
   ],
   "source": [
    "# initial algorithm\n",
    "def bsearch3(arr, key):\n",
    "    print('iterating')\n",
    "    n = len(arr)\n",
    "    if n < 2:\n",
    "        return (0 if (n==1 and arr[0] == key) else None)\n",
    "    m = int(0.5 * n)\n",
    "    if arr[m] > key:\n",
    "        return bsearch3(arr[:m], key)\n",
    "    result = bsearch3(arr[m:], key)\n",
    "    return (result + m if result != None else None)\n",
    "\n",
    "\n",
    "# Sample input for the third algorithm\n",
    "b3_si = [1,1,1,1,1]\n",
    "\n",
    "# show that there are N-1 iterations, however even after the first iteration 1 was found\n",
    "print(bsearch3(b3_si, 1))"
   ]
  },
  {
   "attachments": {},
   "cell_type": "markdown",
   "metadata": {},
   "source": [
    "**`3.2`**  \n",
    "\n",
    "**The bug can be fixed by the additional check on whether the middle value corresponds to the key. When it does, we do not need to iterate further. The code below demostrates the fixed version**"
   ]
  },
  {
   "cell_type": "code",
   "execution_count": 221,
   "metadata": {},
   "outputs": [
    {
     "name": "stdout",
     "output_type": "stream",
     "text": [
      "iterating\n",
      "2\n"
     ]
    }
   ],
   "source": [
    "# initial algorithm\n",
    "def bsearch3_fixed(arr, key):\n",
    "    print('iterating')\n",
    "    n = len(arr)\n",
    "    if n < 2:\n",
    "        return (0 if (n==1 and arr[0] == key) else None)\n",
    "    m = int(0.5 * n)\n",
    "    if arr[m] == key:  # bugfix\n",
    "        return m\n",
    "    if arr[m] > key:\n",
    "        return bsearch3_fixed(arr[:m], key)\n",
    "    result = bsearch3_fixed(arr[m:], key)\n",
    "    return (result + m if result != None else None)\n",
    "\n",
    "# check that there's only 1 iteration\n",
    "print(bsearch3_fixed(b3_si, 1))"
   ]
  },
  {
   "attachments": {},
   "cell_type": "markdown",
   "metadata": {},
   "source": [
    "**`3.3`**  \n",
    "\n",
    "**I don't think there exists some particular unit test to figure the bug out. Potentially, one can do two things:**\n",
    "1. Run the code over some arbitrary small N and large N and determine the complexity on both sides.\n",
    "2. Account for all potential cases when specifying the inequalities (>, <, >=, <=, ==)"
   ]
  }
 ],
 "metadata": {
  "kernelspec": {
   "display_name": "base",
   "language": "python",
   "name": "python3"
  },
  "language_info": {
   "codemirror_mode": {
    "name": "ipython",
    "version": 3
   },
   "file_extension": ".py",
   "mimetype": "text/x-python",
   "name": "python",
   "nbconvert_exporter": "python",
   "pygments_lexer": "ipython3",
   "version": "3.9.12"
  },
  "orig_nbformat": 4,
  "vscode": {
   "interpreter": {
    "hash": "cd78fef2128015050713e82ca51c6520b11aee7c9ee8df750520bbbc7384cbaa"
   }
  }
 },
 "nbformat": 4,
 "nbformat_minor": 2
}
