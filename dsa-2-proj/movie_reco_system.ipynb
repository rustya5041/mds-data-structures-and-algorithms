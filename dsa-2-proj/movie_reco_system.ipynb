{
 "cells": [
  {
   "attachments": {},
   "cell_type": "markdown",
   "metadata": {},
   "source": [
    "### You are tasked with developing a movie recommendation system. You are given a list of movies (their names) and a list of similarities between movies (pairs of movies that are similar). You are also given a list of user's friends and for each friend a list of movies that he has already seen.\n",
    "\n",
    "### Your system should recommend one movie with the highest discussability and uniqueness. Discussability is the number of the users friends, who have already seen that movie. Uniqueness is 1 divided by the mean number of similar movies that the user's friends have already seen. So you should return the film with the highest number: F / S, where F = number of friends who have seen this movie, and S = mean of the number of similar movies seen for each friend. Exclude the movies with S = 0.\n",
    "\n",
    "### Hint: If (a, b) and (b, c) are pairs of similar movies, then (a, c) is a pair of similar movies too. Each movie is not counted in its Uniqueness.\n",
    "\n"
   ]
  },
  {
   "cell_type": "code",
   "execution_count": 55,
   "metadata": {},
   "outputs": [
    {
     "name": "stdout",
     "output_type": "stream",
     "text": [
      "Recommended film: 1917\n"
     ]
    }
   ],
   "source": [
    "mo = [\"Parasite\",\"1917\",\"Ford v Ferrari\",\"Jojo Rabbit\",\"Joker\"]\n",
    "si = [[\"Parasite\", \"1917\"],[\"Parasite\", \"Jojo Rabbit\"],[\"Joker\", \"Ford v Ferrari\"]]\n",
    "fr = [[\"Joker\"],[\"Joker\",\"1917\"],[\"Joker\"],[\"Parasite\"],[\"1917\"], [\"Jojo Rabbit\", \"Joker\"]]\n",
    "\n",
    "def reco(friends : list, movies : list, similarities : list) -> str: \n",
    "    \"\"\"\n",
    "    Returns the movie that is most recommended to watch based on the friends, movies, and similarities.\n",
    "    :param friends: list of lists of movies watched by friends\n",
    "    :param movies: list of movies\n",
    "    :param similarities: list of lists of movies that are similar\n",
    "    :raises:\n",
    "        TypeError: if friends, movies, or similarities is not a list\n",
    "        ValueError: if friends, movies, or similarities is empty\n",
    "    :returns: str, movie that is most recommended to watch. If movies got equal score, returns the first movie in the list.\n",
    "    \"\"\"\n",
    "    # specify error messages\n",
    "    instanceError = 'must be a list'\n",
    "\n",
    "    # check instances\n",
    "    if not isinstance(friends, list):\n",
    "        raise TypeError(f\"Friends {friends}, {instanceError}\")\n",
    "    if not isinstance(movies, list):\n",
    "        raise TypeError(f\"Movies {movies}, {instanceError}\")\n",
    "    if not isinstance(similarities, list):\n",
    "        raise TypeError(f\"Similarities {similarities}, {instanceError}\")\n",
    "    \n",
    "    # check argument length\n",
    "    if len(friends) == 0 or len(movies) == 0 or len(similarities) == 0:\n",
    "        return None\n",
    "\n",
    "    # init hash tables\n",
    "    movies_similar = {}\n",
    "    movies_friends = {}\n",
    "    reco = None\n",
    "    \n",
    "    for m in movies:\n",
    "        movies_similar[m] = 0\n",
    "        movies_friends[m] = 0\n",
    "    \n",
    "    # calc F\n",
    "    movies_seen = {m: sum([1 for f in friends if m in f]) for m in movies}\n",
    "\n",
    "    # calc S\n",
    "    for s in similarities:\n",
    "        m1, m2 = s\n",
    "        movies_similar[m1] += movies_seen[m2]\n",
    "        movies_similar[m2] += movies_seen[m1]\n",
    "\n",
    "    # cals F/s\n",
    "    reco_score = {m: movies_seen[m] / movies_similar[m] for m in movies if movies_similar[m] != 0}\n",
    "\n",
    "    # return the film with the highest F / S\n",
    "    try:\n",
    "        reco = max(reco_score, key=reco_score.get)\n",
    "    except ValueError:\n",
    "        reco = None\n",
    "    return reco\n",
    "\n",
    "print(f\"Recommended film: {reco(fr, mo, si)}\")"
   ]
  },
  {
   "cell_type": "code",
   "execution_count": 56,
   "metadata": {},
   "outputs": [
    {
     "name": "stderr",
     "output_type": "stream",
     "text": [
      ".\n",
      "----------------------------------------------------------------------\n",
      "Ran 1 test in 0.005s\n",
      "\n",
      "OK\n"
     ]
    },
    {
     "name": "stdout",
     "output_type": "stream",
     "text": [
      "Unit test passed\n",
      "Unit test passed\n",
      "Unit test passed\n",
      "Unit test passed\n"
     ]
    }
   ],
   "source": [
    "import unittest\n",
    "\n",
    "class TestReco(unittest.TestCase):\n",
    "    def test_reco(self):\n",
    "        test_cases = [\n",
    "            {\n",
    "                'friends': [[\"Joker\"], [\"Joker\",\"1917\"],[\"Joker\"],[\"Parasite\"], [\"1917\"], [\"Jojo Rabbit\", \"Joker\"]],\n",
    "                'movies': [\"Parasite\",\"1917\", \"Ford v Ferrari\", \"Jojo Rabbit\", \"Joker\"],\n",
    "                'similarities': [],\n",
    "                'expected': None\n",
    "            },\n",
    "\n",
    "            {\n",
    "                'friends': [[\"Joker\"], [\"Joker\",\"1917\"],[\"Joker\"],[\"Parasite\"], [\"1917\"], [\"Jojo Rabbit\", \"Joker\"]],\n",
    "                'movies': [\"Parasite\",\"1917\", \"Ford v Ferrari\", \"Jojo Rabbit\", \"Joker\"],\n",
    "                'similarities': [[\"Parasite\", \"1917\"],\n",
    "                [\"Parasite\", \"Jojo Rabbit\"],\n",
    "                [\"Joker\", \"Ford v Ferrari\"]],\n",
    "                'expected': '1917'\n",
    "            },\n",
    "\n",
    "            {\n",
    "                'friends': [[\"Joker\"], [\"Joker\",\"1917\"],[\"Joker\"],[\"Parasite\"], [\"1917\"], [\"Jojo Rabbit\", \"Joker\"]],\n",
    "                'movies': [\"Parasite\",\"1917\", \"Ford v Ferrari\", \"Jojo Rabbit\", \"Joker\"],\n",
    "                'similarities': [[\"Parasite\", \"1917\"],\n",
    "                [\"Parasite\", \"Jojo Rabbit\"],\n",
    "                [\"Joker\", \"Ford v Ferrari\"],\n",
    "                [\"Joker\", \"1917\"]],\n",
    "                'expected': 'Joker'\n",
    "            },\n",
    "\n",
    "            {\n",
    "                'friends': [[\"Joker\"], [\"Joker\",\"1917\"],[\"Joker\"],[\"Parasite\"], [\"1917\"], [\"Jojo Rabbit\", \"Joker\"]],\n",
    "                'movies': [\"Parasite\",\"1917\", \"Ford v Ferrari\", \"Jojo Rabbit\", \"Joker\"],\n",
    "                'similarities': [[\"Parasite\", \"1917\"],\n",
    "                [\"Parasite\", \"Jojo Rabbit\"],\n",
    "                [\"Joker\", \"Ford v Ferrari\"],\n",
    "                [\"Joker\", \"1917\"],\n",
    "                [\"Ford v Ferrari\", \"1917\"]],\n",
    "                'expected': 'Joker'\n",
    "            },\n",
    "        ]\n",
    "        # test each case\n",
    "        for case in test_cases:\n",
    "            self.assertEqual(reco(case['friends'], case['movies'], case['similarities']), case['expected'])\n",
    "            print(f'Unit test passed')\n",
    "\n",
    "if __name__ == '__main__':\n",
    "    unittest.main(argv=['first-arg-is-ignored'], exit=False)"
   ]
  },
  {
   "cell_type": "code",
   "execution_count": null,
   "metadata": {},
   "outputs": [],
   "source": []
  }
 ],
 "metadata": {
  "kernelspec": {
   "display_name": "base",
   "language": "python",
   "name": "python3"
  },
  "language_info": {
   "codemirror_mode": {
    "name": "ipython",
    "version": 3
   },
   "file_extension": ".py",
   "mimetype": "text/x-python",
   "name": "python",
   "nbconvert_exporter": "python",
   "pygments_lexer": "ipython3",
   "version": "3.10.7"
  },
  "orig_nbformat": 4
 },
 "nbformat": 4,
 "nbformat_minor": 2
}
