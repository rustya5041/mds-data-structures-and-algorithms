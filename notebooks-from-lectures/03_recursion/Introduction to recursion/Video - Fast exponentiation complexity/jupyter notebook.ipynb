{
 "cells": [
  {
   "cell_type": "markdown",
   "metadata": {},
   "source": [
    "## Exponentiation"
   ]
  },
  {
   "cell_type": "code",
   "execution_count": null,
   "metadata": {
    "jupyter": {
     "source_hidden": true
    }
   },
   "outputs": [],
   "source": [
    "import matplotlib.pyplot as plt\n",
    "from time import time\n",
    "from random import randint\n",
    "import math\n",
    "\n",
    "def run_and_plot(f, generate_instance, start, end, step, reruns=1):\n",
    "    timings = []\n",
    "    for i in range(start, end, step):\n",
    "        args = generate_instance(i)\n",
    "        startt = time()\n",
    "        for _ in range(reruns):\n",
    "            f(args)\n",
    "        endt = time()\n",
    "        timings.append(endt - startt)\n",
    "    plt.plot(timings)"
   ]
  },
  {
   "cell_type": "code",
   "execution_count": null,
   "metadata": {},
   "outputs": [],
   "source": [
    "def exp(a, b):\n",
    "    if b == 0:\n",
    "        return 1\n",
    "    if b % 2 == 0:\n",
    "        return exp(a, b // 2)**2\n",
    "    return a * exp(a, (b - 1) // 2)**2"
   ]
  },
  {
   "cell_type": "code",
   "execution_count": null,
   "metadata": {},
   "outputs": [],
   "source": [
    "exp(2, 10)"
   ]
  },
  {
   "cell_type": "code",
   "execution_count": null,
   "metadata": {
    "jupyter": {
     "source_hidden": true
    }
   },
   "outputs": [],
   "source": [
    "run_and_plot(lambda b: exp(3, b), lambda n: n, 1, 20000, 10, 100)"
   ]
  },
  {
   "cell_type": "code",
   "execution_count": null,
   "metadata": {},
   "outputs": [],
   "source": []
  }
 ],
 "metadata": {
  "kernelspec": {
   "display_name": "Python 3",
   "language": "python",
   "name": "python3"
  },
  "language_info": {
   "codemirror_mode": {
    "name": "ipython",
    "version": 3
   },
   "file_extension": ".py",
   "mimetype": "text/x-python",
   "name": "python",
   "nbconvert_exporter": "python",
   "pygments_lexer": "ipython3",
   "version": "3.6.9"
  }
 },
 "nbformat": 4,
 "nbformat_minor": 4
}
