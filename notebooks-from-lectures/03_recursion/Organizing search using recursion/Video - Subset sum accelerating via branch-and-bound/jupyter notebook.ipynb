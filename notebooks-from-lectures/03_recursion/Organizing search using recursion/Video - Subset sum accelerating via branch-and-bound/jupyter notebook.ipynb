{
 "cells": [
  {
   "cell_type": "code",
   "execution_count": null,
   "metadata": {
    "jupyter": {
     "source_hidden": true
    }
   },
   "outputs": [],
   "source": [
    "import math\n",
    "from time import time\n",
    "from random import randint\n",
    "\n",
    "import matplotlib.pyplot as plt"
   ]
  },
  {
   "cell_type": "markdown",
   "metadata": {},
   "source": [
    "## Subset sum\n",
    "\n",
    "### Naive recursion"
   ]
  },
  {
   "cell_type": "code",
   "execution_count": null,
   "metadata": {},
   "outputs": [],
   "source": [
    "def subset_sum_naive(A, C):\n",
    "    # base case\n",
    "    if len(A) == 0:\n",
    "        if C == 0:\n",
    "            return 0\n",
    "        else:\n",
    "            return math.inf\n",
    "        \n",
    "    # do not take the last\n",
    "    result = subset_sum_naive(A[:-1], C)\n",
    "    if C >= A[-1]:\n",
    "        result = min(\n",
    "            result,\n",
    "            # take the last element\n",
    "            subset_sum_naive(A[:-1], C - A[-1]) + 1\n",
    "        )\n",
    "    \n",
    "    return result"
   ]
  },
  {
   "cell_type": "code",
   "execution_count": null,
   "metadata": {},
   "outputs": [],
   "source": [
    "subset_sum_naive([1, 2, 3, 4], 6)"
   ]
  },
  {
   "cell_type": "markdown",
   "metadata": {},
   "source": [
    "### Idea 1\n",
    "\n",
    "**Idea:** stop earlier"
   ]
  },
  {
   "cell_type": "code",
   "execution_count": null,
   "metadata": {
    "jupyter": {
     "source_hidden": true
    }
   },
   "outputs": [],
   "source": [
    "def subset_sum_bbs(A, C):\n",
    "    # stopping criterion\n",
    "    s = sum(A)\n",
    "    if s == C:\n",
    "        return len(A)\n",
    "    if s < C:\n",
    "        return math.inf\n",
    "        \n",
    "    # the same recursion as before\n",
    "    result = subset_sum_bbs(A[:-1], C)\n",
    "    if C >= A[-1]:\n",
    "        result = min(\n",
    "            result, \n",
    "            subset_sum_bbs(A[:-1], C - A[-1]) + 1\n",
    "        )\n",
    "    \n",
    "    return result"
   ]
  },
  {
   "cell_type": "code",
   "execution_count": null,
   "metadata": {
    "jupyter": {
     "source_hidden": true
    }
   },
   "outputs": [],
   "source": [
    "subset_sum_bbs([1, 2, 3, 4], 6)"
   ]
  },
  {
   "cell_type": "code",
   "execution_count": null,
   "metadata": {
    "jupyter": {
     "source_hidden": true
    }
   },
   "outputs": [],
   "source": [
    "timings_old = []\n",
    "timings_new = []\n",
    "\n",
    "max_n = 5000\n",
    "count = 18\n",
    "\n",
    "for i in range(25):\n",
    "    numbers = [randint(1, max_n) for i in range(count)]\n",
    "    C = randint(1, count * max_n // 3)\n",
    "    start = time()\n",
    "    subset_sum_naive(numbers, C)\n",
    "    end = time()\n",
    "    timings_old.append(end - start)\n",
    "    \n",
    "    start = time()\n",
    "    subset_sum_bbs(numbers, C)\n",
    "    end = time()\n",
    "    timings_new.append(end - start)\n",
    "    \n",
    "plt.plot(timings_old, color='b')\n",
    "plt.plot(timings_new, color='c')\n"
   ]
  },
  {
   "cell_type": "markdown",
   "metadata": {},
   "source": [
    "### Idea 2\n",
    "\n",
    "**Idea:** compare with other branches"
   ]
  },
  {
   "cell_type": "code",
   "execution_count": null,
   "metadata": {
    "jupyter": {
     "source_hidden": true
    }
   },
   "outputs": [],
   "source": [
    "# assume that A is sorted\n",
    "def subset_sum_bb(A, C, best):\n",
    "    # estimate the best we can get in this branch\n",
    "    s = 0\n",
    "    i = len(A) - 1\n",
    "    while s < C and i >= 0:\n",
    "        s += A[i]\n",
    "        i -= 1\n",
    "    if s == C:\n",
    "        return len(A) - i - 1\n",
    "    if s < C:\n",
    "        return math.inf\n",
    "    # cannot outperform best => just stop\n",
    "    if len(A) - i + 1 >= best:\n",
    "        return math.inf\n",
    "        \n",
    "    # the same recursion as earlier\n",
    "    result = subset_sum_bb(A[:-1], C, best)\n",
    "    if C >= A[-1]:\n",
    "        result = min(\n",
    "            result, \n",
    "            subset_sum_bb(A[:-1], C - A[-1], min(best, result) - 1) + 1\n",
    "        )\n",
    "    \n",
    "    return result"
   ]
  },
  {
   "cell_type": "code",
   "execution_count": null,
   "metadata": {
    "jupyter": {
     "source_hidden": true
    }
   },
   "outputs": [],
   "source": [
    "timings_old = []\n",
    "timings_new = []\n",
    "\n",
    "max_n = 5000\n",
    "count = 22\n",
    "\n",
    "for i in range(25):\n",
    "    numbers = sorted([randint(1, 5000) for i in range(count)])\n",
    "    C = randint(1, count * max_n // 2)\n",
    "    start = time()\n",
    "    subset_sum_bbs(numbers, C)\n",
    "    end = time()\n",
    "    timings_old.append(end - start)\n",
    "    \n",
    "    start = time()\n",
    "    subset_sum_bb(numbers, C, math.inf)\n",
    "    end = time()\n",
    "    timings_new.append(end - start)\n",
    "    \n",
    "plt.plot(timings_old, color='b')\n",
    "plt.plot(timings_new, color='c')\n"
   ]
  },
  {
   "cell_type": "code",
   "execution_count": null,
   "metadata": {},
   "outputs": [],
   "source": []
  }
 ],
 "metadata": {
  "kernelspec": {
   "display_name": "Python 3",
   "language": "python",
   "name": "python3"
  },
  "language_info": {
   "codemirror_mode": {
    "name": "ipython",
    "version": 3
   },
   "file_extension": ".py",
   "mimetype": "text/x-python",
   "name": "python",
   "nbconvert_exporter": "python",
   "pygments_lexer": "ipython3",
   "version": "3.6.9"
  }
 },
 "nbformat": 4,
 "nbformat_minor": 4
}
