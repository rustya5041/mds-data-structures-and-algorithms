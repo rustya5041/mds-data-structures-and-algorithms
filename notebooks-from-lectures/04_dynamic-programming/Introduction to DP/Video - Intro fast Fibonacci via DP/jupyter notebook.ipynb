{
 "cells": [
  {
   "cell_type": "code",
   "execution_count": null,
   "metadata": {
    "jupyter": {
     "source_hidden": true
    }
   },
   "outputs": [],
   "source": [
    "import matplotlib.pyplot as plt\n",
    "from time import time\n",
    "from random import randint\n",
    "import math\n",
    "\n",
    "def run_and_plot(functions, names, generate_instance, start, end, step):\n",
    "    for f in functions:\n",
    "        timings = []\n",
    "        for i in range(start, end, step):\n",
    "            args = generate_instance(i)\n",
    "            startt = time()\n",
    "            f(*args)\n",
    "            endt = time()\n",
    "            timings.append(endt - startt)\n",
    "        plt.plot(timings)\n",
    "    plt.legend([n for n in names])"
   ]
  },
  {
   "cell_type": "markdown",
   "metadata": {},
   "source": [
    "## Fibonacci numbers revisited"
   ]
  },
  {
   "cell_type": "code",
   "execution_count": null,
   "metadata": {},
   "outputs": [],
   "source": [
    "def fib_rec(n):\n",
    "    if n == 0 or n == 1:\n",
    "        return 1\n",
    "    return fib_rec(n - 1) + fib_rec(n - 2)"
   ]
  },
  {
   "cell_type": "code",
   "execution_count": null,
   "metadata": {},
   "outputs": [],
   "source": [
    "[fib_rec(i) for i in range(10)]"
   ]
  },
  {
   "cell_type": "code",
   "execution_count": null,
   "metadata": {},
   "outputs": [],
   "source": [
    "def fib_dyn(n):\n",
    "    tbl = [1] * (n + 1)\n",
    "    for i in range(2, n + 1):\n",
    "        tbl[i] = (tbl[i - 1] + tbl[i - 2]) % 1000\n",
    "    return tbl[n]"
   ]
  },
  {
   "cell_type": "code",
   "execution_count": null,
   "metadata": {},
   "outputs": [],
   "source": [
    "[fib_dyn(i) for i in range(10)]"
   ]
  },
  {
   "cell_type": "code",
   "execution_count": null,
   "metadata": {},
   "outputs": [],
   "source": [
    "fib_dyn(50)"
   ]
  },
  {
   "cell_type": "code",
   "execution_count": null,
   "metadata": {},
   "outputs": [],
   "source": [
    "fib_rec(50)"
   ]
  },
  {
   "cell_type": "code",
   "execution_count": null,
   "metadata": {},
   "outputs": [],
   "source": [
    "run_and_plot(\n",
    "    [fib_rec, fib_dyn], \n",
    "    [\"recursive\", \"dynamic\"],\n",
    "    lambda n: (n, ),\n",
    "    1, 10, 1\n",
    ")"
   ]
  },
  {
   "cell_type": "code",
   "execution_count": null,
   "metadata": {},
   "outputs": [],
   "source": [
    "run_and_plot(\n",
    "    [fib_dyn], \n",
    "    [\"dynamic\"],\n",
    "    lambda n: (n, ),\n",
    "    1, 50000, 100\n",
    ")"
   ]
  },
  {
   "cell_type": "code",
   "execution_count": null,
   "metadata": {},
   "outputs": [],
   "source": []
  }
 ],
 "metadata": {
  "kernelspec": {
   "display_name": "Python 3",
   "language": "python",
   "name": "python3"
  },
  "language_info": {
   "codemirror_mode": {
    "name": "ipython",
    "version": 3
   },
   "file_extension": ".py",
   "mimetype": "text/x-python",
   "name": "python",
   "nbconvert_exporter": "python",
   "pygments_lexer": "ipython3",
   "version": "3.6.9"
  }
 },
 "nbformat": 4,
 "nbformat_minor": 4
}
