{
 "cells": [
  {
   "cell_type": "code",
   "execution_count": null,
   "metadata": {
    "jupyter": {
     "source_hidden": true
    }
   },
   "outputs": [],
   "source": [
    "import matplotlib.pyplot as plt\n",
    "from time import time\n",
    "from random import randint\n",
    "import math\n",
    "\n",
    "def run_and_plot(functions, names, generate_instance, start, end, step):\n",
    "    for f in functions:\n",
    "        timings = []\n",
    "        for i in range(start, end, step):\n",
    "            args = generate_instance(i)\n",
    "            startt = time()\n",
    "            f(*args)\n",
    "            endt = time()\n",
    "            timings.append(endt - startt)\n",
    "        plt.plot(timings)\n",
    "    plt.legend([n for n in names])"
   ]
  },
  {
   "cell_type": "markdown",
   "metadata": {},
   "source": [
    "## Text justification: DP"
   ]
  },
  {
   "cell_type": "code",
   "execution_count": null,
   "metadata": {},
   "outputs": [],
   "source": [
    "W_example = [\"jars\", \"jaws\", \"joke\", \"jury\", \"juxtaposition\"]\n",
    "L_example = 15"
   ]
  },
  {
   "cell_type": "code",
   "execution_count": null,
   "metadata": {
    "jupyter": {
     "source_hidden": true
    }
   },
   "outputs": [],
   "source": [
    "def tj_recursive(L, W):\n",
    "    def P(i, j): # penalty\n",
    "        length = sum([len(W[k]) for k in range(i, j)])\n",
    "        length += j - i - 1 # adding spaces\n",
    "        if length > L:\n",
    "            return math.inf\n",
    "        return (L - length)**3\n",
    "    \n",
    "    def TJP(i):\n",
    "        if i == 0: \n",
    "            return 0\n",
    "        return min([TJP(j) + P(j, i) for j in range(i)])\n",
    "    \n",
    "    return TJP(len(W))"
   ]
  },
  {
   "cell_type": "code",
   "execution_count": null,
   "metadata": {},
   "outputs": [],
   "source": [
    "def tj_dynamic_obf(L, W):\n",
    "    # the same P as in recursive solution\n",
    "    def P(i, j):\n",
    "        length = sum([len(W[k]) for k in range(i, j)])\n",
    "        length += j - i - 1\n",
    "        if length > L:\n",
    "            return math.inf\n",
    "        return (L - length)**3\n",
    "    \n",
    "    def TJP(n):\n",
    "        tbl = [ math.inf ] * (n + 1)\n",
    "        tbl[0] = 0\n",
    "        for i in range(1, n + 1):\n",
    "            tbl[i] = min([tbl[j] + P(j, i) for j in range(i)])\n",
    "        return tbl[n]\n",
    "\n",
    "    return TJP(len(W))"
   ]
  },
  {
   "cell_type": "code",
   "execution_count": null,
   "metadata": {},
   "outputs": [],
   "source": [
    "tj_dynamic_obf(L_example, W_example)"
   ]
  },
  {
   "cell_type": "code",
   "execution_count": null,
   "metadata": {
    "jupyter": {
     "source_hidden": true
    }
   },
   "outputs": [],
   "source": [
    "def tj_dynamic(L, W):\n",
    "    n = len(W)\n",
    "    tbl = [ math.inf ] * (n + 1)\n",
    "    tbl[0] = 0\n",
    "    for i in range(1, n + 1):\n",
    "        for j in range(i):\n",
    "            length = i - j - 1\n",
    "            for k in range(j, i):\n",
    "                length += len(W[k])\n",
    "            if length > L:\n",
    "                P = math.inf\n",
    "            else:\n",
    "                P = (L - length)**3\n",
    "            tbl[i] = min(tbl[i], tbl[j] + P)\n",
    "    return tbl[n]"
   ]
  },
  {
   "cell_type": "code",
   "execution_count": null,
   "metadata": {},
   "outputs": [],
   "source": [
    "tj_dynamic(L_example, W_example)"
   ]
  },
  {
   "cell_type": "code",
   "execution_count": null,
   "metadata": {
    "jupyter": {
     "source_hidden": true
    }
   },
   "outputs": [],
   "source": [
    "def gen_text(len_text, len_word):\n",
    "    return [\"A\" * randint(1, len_word) for _ in range(len_text)]"
   ]
  },
  {
   "cell_type": "code",
   "execution_count": null,
   "metadata": {
    "jupyter": {
     "source_hidden": true
    }
   },
   "outputs": [],
   "source": [
    "L = 50\n",
    "run_and_plot(\n",
    "    [tj_recursive, tj_dynamic],\n",
    "    [\"recursive\", \"dynamic\"],\n",
    "    lambda n: (L, gen_text(n, L // 5)), \n",
    "    1, 10, 1\n",
    ")"
   ]
  },
  {
   "cell_type": "code",
   "execution_count": null,
   "metadata": {
    "jupyter": {
     "source_hidden": true
    }
   },
   "outputs": [],
   "source": [
    "L = 50\n",
    "run_and_plot(\n",
    "    [tj_dynamic],\n",
    "    [\"dynamic\"],\n",
    "    lambda n: (L, gen_text(n, L // 5)), \n",
    "    1, 200, 1\n",
    ")"
   ]
  },
  {
   "cell_type": "code",
   "execution_count": null,
   "metadata": {},
   "outputs": [],
   "source": []
  }
 ],
 "metadata": {
  "kernelspec": {
   "display_name": "Python 3",
   "language": "python",
   "name": "python3"
  },
  "language_info": {
   "codemirror_mode": {
    "name": "ipython",
    "version": 3
   },
   "file_extension": ".py",
   "mimetype": "text/x-python",
   "name": "python",
   "nbconvert_exporter": "python",
   "pygments_lexer": "ipython3",
   "version": "3.6.9"
  }
 },
 "nbformat": 4,
 "nbformat_minor": 4
}
