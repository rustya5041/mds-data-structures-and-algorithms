{
 "cells": [
  {
   "cell_type": "code",
   "execution_count": 1,
   "metadata": {},
   "outputs": [],
   "source": [
    "import math\n",
    "import matplotlib.pyplot as plt\n",
    "from time import time\n",
    "from random import randint"
   ]
  },
  {
   "cell_type": "code",
   "execution_count": 2,
   "metadata": {},
   "outputs": [],
   "source": [
    "def run_and_plot(functions, generate_instance, start, end, step):\n",
    "    for f in functions:\n",
    "        timings = []\n",
    "        for i in range(start, end, step):\n",
    "            args = generate_instance(i)\n",
    "            startt = time()\n",
    "            f(*args)\n",
    "            endt = time()\n",
    "            timings.append(endt - startt)\n",
    "        plt.plot(timings)"
   ]
  },
  {
   "cell_type": "markdown",
   "metadata": {},
   "source": [
    "# Text Justification"
   ]
  },
  {
   "cell_type": "code",
   "execution_count": 3,
   "metadata": {},
   "outputs": [],
   "source": [
    "W_example = [\"jars\", \"jaws\", \"joke\", \"jury\", \"juxtaposition\"]\n",
    "L_example = 15"
   ]
  },
  {
   "cell_type": "markdown",
   "metadata": {},
   "source": [
    "### Recursive solution"
   ]
  },
  {
   "cell_type": "code",
   "execution_count": 4,
   "metadata": {},
   "outputs": [],
   "source": [
    "def tj_recursive(L, W):\n",
    "    def P(i, j): # penalty\n",
    "        length = sum([len(W[k]) for k in range(i, j)])\n",
    "        length += j - i - 1 # adding spaces\n",
    "        if length > L:\n",
    "            return math.inf\n",
    "        return (L - length)**3\n",
    "    \n",
    "    def TJP(i):\n",
    "        if i == 0: \n",
    "            return 0\n",
    "        return min([TJP(j) + P(j, i) for j in range(i)])\n",
    "    \n",
    "    return TJP(len(W))"
   ]
  },
  {
   "cell_type": "code",
   "execution_count": 5,
   "metadata": {},
   "outputs": [
    {
     "data": {
      "text/plain": [
       "440"
      ]
     },
     "execution_count": 5,
     "metadata": {},
     "output_type": "execute_result"
    }
   ],
   "source": [
    "tj_recursive(L_example, W_example)"
   ]
  },
  {
   "cell_type": "markdown",
   "metadata": {},
   "source": [
    "### DP solution"
   ]
  },
  {
   "cell_type": "code",
   "execution_count": 6,
   "metadata": {},
   "outputs": [],
   "source": [
    "def tj_dynamic_obf(L, W):\n",
    "    def P(i, j):\n",
    "        length = sum([len(W[k]) for k in range(i, j)])\n",
    "        length += j - i - 1 # adding spaces\n",
    "        if length > L:\n",
    "            return math.inf\n",
    "        return (L - length)**3\n",
    "    \n",
    "    def TJP(n):\n",
    "        tbl = [ math.inf ] * (n + 1)\n",
    "        tbl[0] = 0\n",
    "        for i in range(1, n + 1):\n",
    "            tbl[i] = min([tbl[j] + P(j, i) for j in range(i)])\n",
    "        return tbl[n]\n",
    "\n",
    "    return TJP(len(W))"
   ]
  },
  {
   "cell_type": "code",
   "execution_count": 7,
   "metadata": {},
   "outputs": [
    {
     "data": {
      "text/plain": [
       "440"
      ]
     },
     "execution_count": 7,
     "metadata": {},
     "output_type": "execute_result"
    }
   ],
   "source": [
    "tj_dynamic_obf(L_example, W_example)"
   ]
  },
  {
   "cell_type": "markdown",
   "metadata": {},
   "source": [
    "Let us compare the performance of the recursive and dp solutions."
   ]
  },
  {
   "cell_type": "code",
   "execution_count": 8,
   "metadata": {},
   "outputs": [],
   "source": [
    "def gen_text(len_text, len_word):\n",
    "    return [\"A\" * randint(1, len_word) for _ in range(len_text)]"
   ]
  },
  {
   "cell_type": "code",
   "execution_count": 9,
   "metadata": {},
   "outputs": [
    {
     "data": {
      "image/png": "[encoded data removed]",
      "text/plain": [
       "<Figure size 432x288 with 1 Axes>"
      ]
     },
     "metadata": {
      "needs_background": "light"
     },
     "output_type": "display_data"
    }
   ],
   "source": [
    "L = 50\n",
    "run_and_plot(\n",
    "    [tj_recursive, tj_dynamic_obf], \n",
    "    lambda n: (L, gen_text(n, L // 5)), \n",
    "    1, 20, 1\n",
    ")"
   ]
  },
  {
   "cell_type": "markdown",
   "metadata": {},
   "source": [
    "### Complexity"
   ]
  },
  {
   "cell_type": "markdown",
   "metadata": {},
   "source": [
    "Let us rewrite the code in a more conventional way and plot its runtime to get  a sense of the complexity."
   ]
  },
  {
   "cell_type": "code",
   "execution_count": 10,
   "metadata": {},
   "outputs": [],
   "source": [
    "def tj_dynamic(L, W):\n",
    "    n = len(W)\n",
    "    tbl = [ math.inf ] * (n + 1)\n",
    "    tbl[0] = 0\n",
    "    for i in range(1, n + 1):\n",
    "        for j in range(i):\n",
    "            length = i - j - 1\n",
    "            for k in range(j, i):\n",
    "                length += len(W[k])\n",
    "            if length > L:\n",
    "                P = math.inf\n",
    "            else:\n",
    "                P = (L - length)**3\n",
    "            tbl[i] = min(tbl[i], tbl[j] + P)\n",
    "    return tbl[n]"
   ]
  },
  {
   "cell_type": "code",
   "execution_count": 11,
   "metadata": {},
   "outputs": [
    {
     "data": {
      "text/plain": [
       "440"
      ]
     },
     "execution_count": 11,
     "metadata": {},
     "output_type": "execute_result"
    }
   ],
   "source": [
    "tj_dynamic(L_example, W_example)"
   ]
  },
  {
   "cell_type": "code",
   "execution_count": 12,
   "metadata": {},
   "outputs": [
    {
     "data": {
      "image/png": "[encoded data removed]",
      "text/plain": [
       "<Figure size 432x288 with 1 Axes>"
      ]
     },
     "metadata": {
      "needs_background": "light"
     },
     "output_type": "display_data"
    }
   ],
   "source": [
    "run_and_plot([tj_dynamic_obf, tj_dynamic], lambda n: (L, gen_text(n, L // 5)), 1, 200, 1)"
   ]
  },
  {
   "cell_type": "markdown",
   "metadata": {},
   "source": [
    "### Speeding up"
   ]
  },
  {
   "cell_type": "markdown",
   "metadata": {},
   "source": [
    "By computing the penalties more efficiently, we can reduce the complexity from $\\mathrm{O}(n^3)$ to $\\mathrm{O}(n^2)$."
   ]
  },
  {
   "cell_type": "code",
   "execution_count": 13,
   "metadata": {},
   "outputs": [],
   "source": [
    "def tj_dynamic_fast(L, W):\n",
    "    n = len(W)\n",
    "    tbl = [ math.inf ] * (n + 1)\n",
    "    tbl[0] = 0\n",
    "    for i in range(1, n + 1):\n",
    "        length = -1\n",
    "        for j in range(i - 1, -1, -1):\n",
    "            length += 1 + len(W[j])\n",
    "            if length > L:\n",
    "                P = math.inf\n",
    "            else:\n",
    "                P = (L - length)**3\n",
    "            tbl[i] = min(tbl[i], tbl[j] + P)\n",
    "    return tbl[n]"
   ]
  },
  {
   "cell_type": "code",
   "execution_count": 14,
   "metadata": {},
   "outputs": [
    {
     "data": {
      "text/plain": [
       "440"
      ]
     },
     "execution_count": 14,
     "metadata": {},
     "output_type": "execute_result"
    }
   ],
   "source": [
    "tj_dynamic_fast(L_example, W_example)"
   ]
  },
  {
   "cell_type": "code",
   "execution_count": 15,
   "metadata": {},
   "outputs": [
    {
     "data": {
      "image/png": "[encoded data removed]",
      "text/plain": [
       "<Figure size 432x288 with 1 Axes>"
      ]
     },
     "metadata": {
      "needs_background": "light"
     },
     "output_type": "display_data"
    }
   ],
   "source": [
    "run_and_plot(\n",
    "    [tj_dynamic, tj_dynamic_fast], \n",
    "    lambda n: (L, gen_text(n, L // 5)), \n",
    "    1, 400, 5)"
   ]
  },
  {
   "cell_type": "markdown",
   "metadata": {},
   "source": [
    "### Constructing optimal split"
   ]
  },
  {
   "cell_type": "markdown",
   "metadata": {},
   "source": [
    "**Idea** Memorize the j on which the maximum was acheved (will be stored in a separate `split` array)."
   ]
  },
  {
   "cell_type": "code",
   "execution_count": 16,
   "metadata": {},
   "outputs": [],
   "source": [
    "def tj_dynamic(L, W):\n",
    "    n = len(W)\n",
    "    tbl = [ math.inf ] * (n + 1)\n",
    "    split  = [0] * (n + 1) # NEW!\n",
    "    tbl[0] = 0\n",
    "    for i in range(1, n + 1):\n",
    "        length = -1\n",
    "        for j in range(i-1, -1, -1):\n",
    "            length += 1 + len(W[j])\n",
    "            if length > L:\n",
    "                P = math.inf\n",
    "            else:\n",
    "                P = (L - length)**3\n",
    "            if tbl[i] > tbl[j] + P:\n",
    "                tbl[i] = tbl[j] + P\n",
    "                split[i] = j\n",
    "    print(tbl)\n",
    "    print(split)\n",
    "    return tbl[n]"
   ]
  },
  {
   "cell_type": "code",
   "execution_count": 17,
   "metadata": {},
   "outputs": [
    {
     "name": "stdout",
     "output_type": "stream",
     "text": [
      "[0, 1331, 216, 1, 432, 440]\n",
      "[0, 0, 0, 0, 2, 4]\n"
     ]
    },
    {
     "data": {
      "text/plain": [
       "440"
      ]
     },
     "execution_count": 17,
     "metadata": {},
     "output_type": "execute_result"
    }
   ],
   "source": [
    "tj_dynamic(L_example, W_example)"
   ]
  },
  {
   "cell_type": "code",
   "execution_count": 18,
   "metadata": {},
   "outputs": [],
   "source": [
    "def tj_full(L, W):\n",
    "    n = len(W)\n",
    "    tbl = [ math.inf ] * (n + 1)\n",
    "    split  = [0] * (n + 1) # NEW!\n",
    "    tbl[0] = 0\n",
    "    for i in range(1, n + 1):\n",
    "        length = -1\n",
    "        for j in range(i-1, -1, -1):\n",
    "            length += 1 + len(W[j])\n",
    "            if length > L:\n",
    "                P = math.inf\n",
    "            else:\n",
    "                P = (L - length)**3\n",
    "            if tbl[i] > tbl[j] + P:\n",
    "                tbl[i] = tbl[j] + P\n",
    "                split[i] = j\n",
    "    \n",
    "    result = []\n",
    "    last = n\n",
    "    while last > 0:\n",
    "        result.append(W[split[last] : last])\n",
    "        last = split[last]\n",
    "    return result[::-1]"
   ]
  },
  {
   "cell_type": "code",
   "execution_count": 19,
   "metadata": {},
   "outputs": [
    {
     "data": {
      "text/plain": [
       "[['jars', 'jaws'], ['joke', 'jury'], ['juxtaposition']]"
      ]
     },
     "execution_count": 19,
     "metadata": {},
     "output_type": "execute_result"
    }
   ],
   "source": [
    "tj_full(L_example, W_example)"
   ]
  },
  {
   "cell_type": "code",
   "execution_count": 20,
   "metadata": {},
   "outputs": [
    {
     "name": "stdout",
     "output_type": "stream",
     "text": [
      "AAAAAA AAA AAAAA AAA AAAAAA AAAA AAAAAA AA AAAAA\n",
      "AA AAAA AAAAAA AA AAAAAA AAAAA AA AAAAAA AAA\n",
      "AAAAAA AAAAA AAAA A AAA AAAAAAA AAAAAAA AAA\n",
      "AAA A AAA A A AAAAAA AAAA AAAA AAA AAAA AAAAA\n",
      "AAAAAA A AAAA AA AAAAAA AA AAA AA AAAAAAA AAA\n",
      "A AAAAAAA AAA AAAA A A AAAAA A AAAAAAA AAAAAA\n",
      "AA A A AAAAAA AAAAA AA A A AAAA A AAAAA AA\n",
      "AAAAAA AAAAAA AAAAA AAAAA AAAAAA AAAAA AAAAA\n",
      "AAA AA AAAAAAA AAA AAAAAA AAAAA AAAAAAA AAA\n",
      "AAA AAA AAA AAAA AAAAAA AAAAAAA AAAAAAA AAAAAA\n",
      "AAAAAAA AAAA AAAAA AA AAAAAAA AAAAA AA AAA\n"
     ]
    }
   ],
   "source": [
    "text = gen_text(100, 7)\n",
    "splitted = tj_full(50, text)\n",
    "for line in splitted:\n",
    "    print(\" \".join(line))"
   ]
  },
  {
   "cell_type": "code",
   "execution_count": null,
   "metadata": {},
   "outputs": [],
   "source": []
  }
 ],
 "metadata": {
  "kernelspec": {
   "display_name": "Python 3",
   "language": "python",
   "name": "python3"
  },
  "language_info": {
   "codemirror_mode": {
    "name": "ipython",
    "version": 3
   },
   "file_extension": ".py",
   "mimetype": "text/x-python",
   "name": "python",
   "nbconvert_exporter": "python",
   "pygments_lexer": "ipython3",
   "version": "3.6.9"
  }
 },
 "nbformat": 4,
 "nbformat_minor": 4
}
