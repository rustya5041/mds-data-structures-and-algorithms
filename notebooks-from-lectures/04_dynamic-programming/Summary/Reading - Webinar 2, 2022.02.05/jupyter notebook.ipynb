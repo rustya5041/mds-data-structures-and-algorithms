{
 "cells": [
  {
   "cell_type": "code",
   "execution_count": 7,
   "id": "2099d4cc",
   "metadata": {},
   "outputs": [],
   "source": [
    "def take_to_space(mass, C):\n",
    "    if len(mass) == 0 or C <= 0:\n",
    "        return [[]]\n",
    "    \n",
    "    first = take_to_space(mass[:-1], C - mass[-1])\n",
    "    second = take_to_space(mass[:-1], C)\n",
    "    \n",
    "    answer = second\n",
    "    for subset in first:\n",
    "        answer.append(subset + [len(mass) - 1])\n",
    "    return answer"
   ]
  },
  {
   "cell_type": "code",
   "execution_count": 8,
   "id": "78eb803f",
   "metadata": {},
   "outputs": [
    {
     "name": "stdout",
     "output_type": "stream",
     "text": [
      "[[], [0], [1], [0, 1], [2]]\n"
     ]
    }
   ],
   "source": [
    "print(take_to_space([1, 2, 3], 3))"
   ]
  },
  {
   "cell_type": "code",
   "execution_count": null,
   "id": "8eeecf11",
   "metadata": {},
   "outputs": [],
   "source": []
  },
  {
   "cell_type": "code",
   "execution_count": null,
   "id": "453a9948",
   "metadata": {},
   "outputs": [],
   "source": []
  },
  {
   "cell_type": "code",
   "execution_count": 11,
   "id": "eb0b75cf",
   "metadata": {},
   "outputs": [],
   "source": [
    "class Node:\n",
    "    def __init__(self, number):\n",
    "        self.value = number\n",
    "        self.next = None"
   ]
  },
  {
   "cell_type": "code",
   "execution_count": 18,
   "id": "71105cc8",
   "metadata": {},
   "outputs": [
    {
     "name": "stdout",
     "output_type": "stream",
     "text": [
      "1 2 3\n"
     ]
    }
   ],
   "source": [
    "first = Node(1)\n",
    "second = Node(2)\n",
    "third = Node(3)\n",
    "first.next = second\n",
    "second.next = third\n",
    "head = first\n",
    "print(head.value, head.next.value, head.next.next.value)"
   ]
  },
  {
   "cell_type": "code",
   "execution_count": 19,
   "id": "9b314435",
   "metadata": {},
   "outputs": [],
   "source": [
    "def reverse(head):\n",
    "    prev = None\n",
    "    cur = head\n",
    "    while cur:\n",
    "        n = cur.next\n",
    "        cur.next = prev\n",
    "        prev = cur\n",
    "        cur = n\n",
    "    return prev"
   ]
  },
  {
   "cell_type": "code",
   "execution_count": 20,
   "id": "fc5652d3",
   "metadata": {},
   "outputs": [
    {
     "name": "stdout",
     "output_type": "stream",
     "text": [
      "3 2 1\n"
     ]
    }
   ],
   "source": [
    "head = reverse(head)\n",
    "print(head.value, head.next.value, head.next.next.value)"
   ]
  },
  {
   "cell_type": "code",
   "execution_count": 22,
   "id": "097d5883",
   "metadata": {},
   "outputs": [],
   "source": [
    "def countSubarrays(arr, k):\n",
    "    left = 0\n",
    "    right = 0\n",
    "    product = 1\n",
    "    answer = 0\n",
    "    while right < len(arr):\n",
    "        if product < k:\n",
    "            answer += right - left\n",
    "            right += 1\n",
    "            product *= arr[right - 1]\n",
    "            if right == len(arr):\n",
    "                break\n",
    "        else:\n",
    "            product /= arr[left]\n",
    "            left += 1\n",
    "\n",
    "    while left < len(arr) and product >= k:\n",
    "        product /= arr[left]\n",
    "        left += 1\n",
    "    answer += right - left\n",
    "    \n",
    "    return answer"
   ]
  },
  {
   "cell_type": "code",
   "execution_count": 23,
   "id": "15b965f0",
   "metadata": {},
   "outputs": [
    {
     "data": {
      "text/plain": [
       "10"
      ]
     },
     "execution_count": 23,
     "metadata": {},
     "output_type": "execute_result"
    }
   ],
   "source": [
    "countSubarrays([1, 2, 4, 3, 1, 2, 10], 7)"
   ]
  },
  {
   "cell_type": "code",
   "execution_count": 24,
   "id": "44d5f25c",
   "metadata": {},
   "outputs": [
    {
     "data": {
      "text/plain": [
       "7"
      ]
     },
     "execution_count": 24,
     "metadata": {},
     "output_type": "execute_result"
    }
   ],
   "source": [
    "countSubarrays([1, 2, 3, 4], 10)"
   ]
  }
 ],
 "metadata": {
  "kernelspec": {
   "display_name": "Python 3 (ipykernel)",
   "language": "python",
   "name": "python3"
  },
  "language_info": {
   "codemirror_mode": {
    "name": "ipython",
    "version": 3
   },
   "file_extension": ".py",
   "mimetype": "text/x-python",
   "name": "python",
   "nbconvert_exporter": "python",
   "pygments_lexer": "ipython3",
   "version": "3.8.10"
  }
 },
 "nbformat": 4,
 "nbformat_minor": 5
}
