{
 "cells": [
  {
   "cell_type": "code",
   "execution_count": 1,
   "metadata": {},
   "outputs": [],
   "source": [
    "import math\n",
    "\n",
    "W_example = [4, 3, 3]\n",
    "V_example = [5, 3, 3]\n",
    "C_example = 6"
   ]
  },
  {
   "cell_type": "markdown",
   "metadata": {},
   "source": [
    "## Constructing an optimal knapsack"
   ]
  },
  {
   "cell_type": "code",
   "execution_count": 2,
   "metadata": {},
   "outputs": [],
   "source": [
    "def knapsack_full(W, V, C):\n",
    "    # part 1: just compute the look-up table\n",
    "    # as before\n",
    "    n = len(W)\n",
    "    tbl = [[0] * (C + 1) for _ in range(n + 1)]\n",
    "    for i in range(1, n + 1):\n",
    "        for j in range(C + 1):\n",
    "            tbl[i][j] = tbl[i - 1][j]\n",
    "            if j >= W[i - 1]:\n",
    "                tbl[i][j] = max(\n",
    "                    tbl[i][j],\n",
    "                    tbl[i - 1][j - W[i - 1]] + V[i - 1]\n",
    "                )\n",
    "    \n",
    "    # part 2: reconstruct an optimal knapsack \n",
    "    # by backward search in the table\n",
    "    knapsack = []\n",
    "    i = n\n",
    "    j = C\n",
    "    while i > 0:\n",
    "        if tbl[i][j] != tbl[i - 1][j]:\n",
    "            j -= W[i - 1]\n",
    "            knapsack.append(i - 1)\n",
    "        i -= 1\n",
    "    return (tbl[-1][-1], knapsack)"
   ]
  },
  {
   "cell_type": "code",
   "execution_count": 3,
   "metadata": {},
   "outputs": [
    {
     "data": {
      "text/plain": [
       "(6, [2, 1])"
      ]
     },
     "execution_count": 3,
     "metadata": {},
     "output_type": "execute_result"
    }
   ],
   "source": [
    "knapsack_full(W_example, V_example, C_example)"
   ]
  }
 ],
 "metadata": {
  "kernelspec": {
   "display_name": "Python 3",
   "language": "python",
   "name": "python3"
  },
  "language_info": {
   "codemirror_mode": {
    "name": "ipython",
    "version": 3
   },
   "file_extension": ".py",
   "mimetype": "text/x-python",
   "name": "python",
   "nbconvert_exporter": "python",
   "pygments_lexer": "ipython3",
   "version": "3.6.9"
  }
 },
 "nbformat": 4,
 "nbformat_minor": 4
}
