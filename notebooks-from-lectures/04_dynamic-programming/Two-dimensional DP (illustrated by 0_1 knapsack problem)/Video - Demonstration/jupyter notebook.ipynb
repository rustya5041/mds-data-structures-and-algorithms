{
 "cells": [
  {
   "cell_type": "code",
   "execution_count": null,
   "metadata": {},
   "outputs": [],
   "source": [
    "import matplotlib.pyplot as plt\n",
    "from time import time\n",
    "from random import randint\n",
    "import math\n",
    "\n",
    "def run_and_plot(functions, names, generate_instance, start, end, step):\n",
    "    for f in functions:\n",
    "        timings = []\n",
    "        for i in range(start, end, step):\n",
    "            args = generate_instance(i)\n",
    "            startt = time()\n",
    "            f(*args)\n",
    "            endt = time()\n",
    "            timings.append(math.sqrt(endt - startt))\n",
    "        plt.plot(timings)\n",
    "    plt.legend([n for n in names])"
   ]
  },
  {
   "cell_type": "markdown",
   "metadata": {},
   "source": [
    "## Knapsack problem"
   ]
  },
  {
   "cell_type": "code",
   "execution_count": null,
   "metadata": {},
   "outputs": [],
   "source": [
    "def knapsack_recursive(W, V, C):\n",
    "    \n",
    "    def K(i, j):\n",
    "        if i == 0:\n",
    "            return 0 if j >= 0 else -math.inf\n",
    "        return max(\n",
    "            K(i - 1, j),\n",
    "            K(i - 1, j - W[i - 1]) + V[i - 1]\n",
    "        )\n",
    "    \n",
    "    return K(len(W), C)"
   ]
  },
  {
   "cell_type": "code",
   "execution_count": null,
   "metadata": {},
   "outputs": [],
   "source": [
    "W_example = [4, 3, 3]\n",
    "V_example = [5, 3, 3]\n",
    "C_example = 6"
   ]
  },
  {
   "cell_type": "code",
   "execution_count": null,
   "metadata": {},
   "outputs": [],
   "source": [
    "knapsack_recursive(W_example, V_example, C_example)"
   ]
  },
  {
   "cell_type": "code",
   "execution_count": null,
   "metadata": {
    "jupyter": {
     "source_hidden": true
    }
   },
   "outputs": [],
   "source": [
    "def knapsack_dynamic(W, V, C): # O(nC)\n",
    "    n = len(W)\n",
    "    tbl = [[0] * (C + 1) for _ in range(n + 1)]\n",
    "    for i in range(1, n + 1):\n",
    "        for j in range(C + 1):\n",
    "            tbl[i][j] = tbl[i - 1][j]\n",
    "            if j >= W[i - 1]:\n",
    "                tbl[i][j] = max(\n",
    "                    tbl[i][j],\n",
    "                    tbl[i - 1][j - W[i - 1]] + V[i - 1]\n",
    "                )\n",
    "    #print(\"\\n\".join([str(l) for l in tbl]))\n",
    "    return tbl[-1][-1]"
   ]
  },
  {
   "cell_type": "code",
   "execution_count": null,
   "metadata": {
    "collapsed": true,
    "jupyter": {
     "outputs_hidden": true,
     "source_hidden": true
    }
   },
   "outputs": [],
   "source": [
    "knapsack_dynamic(W_example, V_example, C_example)"
   ]
  },
  {
   "cell_type": "code",
   "execution_count": null,
   "metadata": {
    "jupyter": {
     "source_hidden": true
    }
   },
   "outputs": [],
   "source": [
    "def generate_knapsack(n, W_ratio, V_max, C):\n",
    "    W = [randint(1, int(W_ratio * C) + 1) for _ in range(n)]\n",
    "    V = [randint(1, V_max) for _ in range(n)]\n",
    "    return (W, V, C)"
   ]
  },
  {
   "cell_type": "code",
   "execution_count": null,
   "metadata": {
    "jupyter": {
     "source_hidden": true
    }
   },
   "outputs": [],
   "source": [
    "run_and_plot(\n",
    "    [knapsack_recursive, knapsack_dynamic],\n",
    "    [\"recursive\", \"dynamic\"],\n",
    "    lambda n: generate_knapsack(n, 0.1, n, n),\n",
    "    1, 20, 1\n",
    ")"
   ]
  },
  {
   "cell_type": "code",
   "execution_count": null,
   "metadata": {},
   "outputs": [],
   "source": []
  }
 ],
 "metadata": {
  "kernelspec": {
   "display_name": "Python 3",
   "language": "python",
   "name": "python3"
  },
  "language_info": {
   "codemirror_mode": {
    "name": "ipython",
    "version": 3
   },
   "file_extension": ".py",
   "mimetype": "text/x-python",
   "name": "python",
   "nbconvert_exporter": "python",
   "pygments_lexer": "ipython3",
   "version": "3.6.9"
  }
 },
 "nbformat": 4,
 "nbformat_minor": 4
}
