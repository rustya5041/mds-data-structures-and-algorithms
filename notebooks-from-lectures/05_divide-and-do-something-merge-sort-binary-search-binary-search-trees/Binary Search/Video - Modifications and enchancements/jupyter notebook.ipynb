{
 "cells": [
  {
   "cell_type": "markdown",
   "metadata": {},
   "source": [
    "## Binary search: variants"
   ]
  },
  {
   "cell_type": "markdown",
   "metadata": {},
   "source": [
    "### Recursive version"
   ]
  },
  {
   "cell_type": "code",
   "execution_count": 37,
   "metadata": {},
   "outputs": [],
   "source": [
    "def bs(A, l, r, t):\n",
    "    print(l,r)\n",
    "    if l >= r:\n",
    "        return -1\n",
    "    mid = (l + r) // 2\n",
    "    if A[mid] == t:\n",
    "        return mid\n",
    "    if A[mid] > t:\n",
    "        return bs(A, l, mid, t)\n",
    "    return bs(A, mid+1, r, t)"
   ]
  },
  {
   "cell_type": "code",
   "execution_count": 38,
   "metadata": {},
   "outputs": [
    {
     "name": "stdout",
     "output_type": "stream",
     "text": [
      "0 7\n",
      "0 3\n",
      "2 3\n",
      "2 2\n"
     ]
    },
    {
     "data": {
      "text/plain": [
       "-1"
      ]
     },
     "execution_count": 38,
     "metadata": {},
     "output_type": "execute_result"
    }
   ],
   "source": [
    "A = [1, 3, 6, 7, 10, 12, 15]\n",
    "bs(A, 0, len(A), 4)"
   ]
  },
  {
   "cell_type": "markdown",
   "metadata": {},
   "source": [
    "### Iterative version"
   ]
  },
  {
   "cell_type": "code",
   "execution_count": 40,
   "metadata": {
    "jupyter": {
     "source_hidden": true
    }
   },
   "outputs": [
    {
     "data": {
      "text/plain": [
       "2"
      ]
     },
     "execution_count": 40,
     "metadata": {},
     "output_type": "execute_result"
    }
   ],
   "source": [
    "def bs_iter(A, t):\n",
    "    l, r = 0, len(A)\n",
    "    while l < r:\n",
    "        mid = (l + r) // 2\n",
    "        if A[mid] == t:\n",
    "            return mid\n",
    "        if A[mid] > t:\n",
    "            r = mid\n",
    "        else:\n",
    "            l = mid + 1\n",
    "    return -1\n",
    "\n",
    "A = [1, 3, 6, 7, 10, 12, 15]\n",
    "bs_iter(A, 6)"
   ]
  },
  {
   "cell_type": "markdown",
   "metadata": {},
   "source": [
    "### Finding the rightmost"
   ]
  },
  {
   "cell_type": "code",
   "execution_count": 41,
   "metadata": {
    "jupyter": {
     "source_hidden": true
    }
   },
   "outputs": [],
   "source": [
    "def bs_right(A, t):\n",
    "    l = 0\n",
    "    r = len(A)\n",
    "    while (l + 1 < r):\n",
    "        mid = (l + r) // 2\n",
    "        if A[mid] > t:\n",
    "            r = mid\n",
    "        else:\n",
    "            l = mid\n",
    "    if (l < r) and A[l] == t:\n",
    "        return l\n",
    "    return -1"
   ]
  },
  {
   "cell_type": "code",
   "execution_count": 42,
   "metadata": {
    "jupyter": {
     "source_hidden": true
    }
   },
   "outputs": [
    {
     "data": {
      "text/plain": [
       "5"
      ]
     },
     "execution_count": 42,
     "metadata": {},
     "output_type": "execute_result"
    }
   ],
   "source": [
    "A = [0, 0, 1, 1, 1, 1, 2, 3, 4]\n",
    "bs_right(A, 1)"
   ]
  },
  {
   "cell_type": "code",
   "execution_count": null,
   "metadata": {},
   "outputs": [],
   "source": []
  }
 ],
 "metadata": {
  "kernelspec": {
   "display_name": "base",
   "language": "python",
   "name": "python3"
  },
  "language_info": {
   "codemirror_mode": {
    "name": "ipython",
    "version": 3
   },
   "file_extension": ".py",
   "mimetype": "text/x-python",
   "name": "python",
   "nbconvert_exporter": "python",
   "pygments_lexer": "ipython3",
   "version": "3.9.12"
  },
  "vscode": {
   "interpreter": {
    "hash": "cd78fef2128015050713e82ca51c6520b11aee7c9ee8df750520bbbc7384cbaa"
   }
  }
 },
 "nbformat": 4,
 "nbformat_minor": 4
}
