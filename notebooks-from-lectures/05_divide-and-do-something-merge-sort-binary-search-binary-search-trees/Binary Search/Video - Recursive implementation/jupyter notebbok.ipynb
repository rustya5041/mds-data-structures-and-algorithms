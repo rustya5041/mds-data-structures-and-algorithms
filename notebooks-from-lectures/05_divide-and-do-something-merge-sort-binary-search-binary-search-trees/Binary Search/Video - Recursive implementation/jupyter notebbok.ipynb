{
 "cells": [
  {
   "cell_type": "markdown",
   "metadata": {},
   "source": [
    "### Binary search: recursive version"
   ]
  },
  {
   "cell_type": "code",
   "execution_count": 1,
   "metadata": {},
   "outputs": [],
   "source": [
    "def bs(A, t, l=0, r=None):\n",
    "    r = len(A) if r is None else r\n",
    "    print(l, r)\n",
    "    if l >= r:\n",
    "        return -1\n",
    "    mid = (l + r) // 2\n",
    "    if A[mid] == t:\n",
    "        return mid\n",
    "    if A[mid] > t:\n",
    "        return bs(A, t, l, mid)\n",
    "    return bs(A, t, mid + 1, r)"
   ]
  },
  {
   "cell_type": "code",
   "execution_count": 2,
   "metadata": {},
   "outputs": [
    {
     "name": "stdout",
     "output_type": "stream",
     "text": [
      "0 7\n",
      "4 7\n",
      "4 5\n"
     ]
    },
    {
     "data": {
      "text/plain": [
       "4"
      ]
     },
     "execution_count": 2,
     "metadata": {},
     "output_type": "execute_result"
    }
   ],
   "source": [
    "A = [1, 3, 6, 7, 10, 12, 15]\n",
    "bs(A, 10)"
   ]
  },
  {
   "cell_type": "code",
   "execution_count": null,
   "metadata": {},
   "outputs": [],
   "source": []
  }
 ],
 "metadata": {
  "kernelspec": {
   "display_name": "Python 3",
   "language": "python",
   "name": "python3"
  },
  "language_info": {
   "codemirror_mode": {
    "name": "ipython",
    "version": 3
   },
   "file_extension": ".py",
   "mimetype": "text/x-python",
   "name": "python",
   "nbconvert_exporter": "python",
   "pygments_lexer": "ipython3",
   "version": "3.6.9"
  }
 },
 "nbformat": 4,
 "nbformat_minor": 4
}
